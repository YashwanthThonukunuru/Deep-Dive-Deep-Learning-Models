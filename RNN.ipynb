{
  "cells": [
    {
      "cell_type": "markdown",
      "metadata": {
        "id": "lLzeq-VNFLor"
      },
      "source": [
        "#### **MBD 2022-2023**\n",
        "# **Fundamentals of Deep Learning**\n",
        "\n",
        "## **Final project**\n"
      ]
    },
    {
      "cell_type": "code",
      "execution_count": 1,
      "metadata": {
        "colab": {
          "base_uri": "https://localhost:8080/"
        },
        "id": "ttJzkGNgTbyE",
        "outputId": "000832c5-e7c3-451e-c2b9-3c5d03a50f3a"
      },
      "outputs": [
        {
          "output_type": "stream",
          "name": "stdout",
          "text": [
            "Looking in indexes: https://pypi.org/simple, https://us-python.pkg.dev/colab-wheels/public/simple/\n",
            "Collecting shap\n",
            "  Downloading shap-0.41.0-cp39-cp39-manylinux_2_12_x86_64.manylinux2010_x86_64.whl (572 kB)\n",
            "\u001b[2K     \u001b[90m━━━━━━━━━━━━━━━━━━━━━━━━━━━━━━━━━━━━━━━\u001b[0m \u001b[32m572.4/572.4 KB\u001b[0m \u001b[31m5.9 MB/s\u001b[0m eta \u001b[36m0:00:00\u001b[0m\n",
            "\u001b[?25hRequirement already satisfied: packaging>20.9 in /usr/local/lib/python3.9/dist-packages (from shap) (23.0)\n",
            "Requirement already satisfied: numba in /usr/local/lib/python3.9/dist-packages (from shap) (0.56.4)\n",
            "Requirement already satisfied: pandas in /usr/local/lib/python3.9/dist-packages (from shap) (1.4.4)\n",
            "Collecting slicer==0.0.7\n",
            "  Downloading slicer-0.0.7-py3-none-any.whl (14 kB)\n",
            "Requirement already satisfied: cloudpickle in /usr/local/lib/python3.9/dist-packages (from shap) (2.2.1)\n",
            "Requirement already satisfied: tqdm>4.25.0 in /usr/local/lib/python3.9/dist-packages (from shap) (4.65.0)\n",
            "Requirement already satisfied: scikit-learn in /usr/local/lib/python3.9/dist-packages (from shap) (1.2.2)\n",
            "Requirement already satisfied: numpy in /usr/local/lib/python3.9/dist-packages (from shap) (1.22.4)\n",
            "Requirement already satisfied: scipy in /usr/local/lib/python3.9/dist-packages (from shap) (1.10.1)\n",
            "Requirement already satisfied: setuptools in /usr/local/lib/python3.9/dist-packages (from numba->shap) (67.6.0)\n",
            "Requirement already satisfied: llvmlite<0.40,>=0.39.0dev0 in /usr/local/lib/python3.9/dist-packages (from numba->shap) (0.39.1)\n",
            "Requirement already satisfied: python-dateutil>=2.8.1 in /usr/local/lib/python3.9/dist-packages (from pandas->shap) (2.8.2)\n",
            "Requirement already satisfied: pytz>=2020.1 in /usr/local/lib/python3.9/dist-packages (from pandas->shap) (2022.7.1)\n",
            "Requirement already satisfied: threadpoolctl>=2.0.0 in /usr/local/lib/python3.9/dist-packages (from scikit-learn->shap) (3.1.0)\n",
            "Requirement already satisfied: joblib>=1.1.1 in /usr/local/lib/python3.9/dist-packages (from scikit-learn->shap) (1.1.1)\n",
            "Requirement already satisfied: six>=1.5 in /usr/local/lib/python3.9/dist-packages (from python-dateutil>=2.8.1->pandas->shap) (1.16.0)\n",
            "Installing collected packages: slicer, shap\n",
            "Successfully installed shap-0.41.0 slicer-0.0.7\n",
            "Looking in indexes: https://pypi.org/simple, https://us-python.pkg.dev/colab-wheels/public/simple/\n",
            "Requirement already satisfied: tensorflow in /usr/local/lib/python3.9/dist-packages (2.11.0)\n",
            "Requirement already satisfied: numpy>=1.20 in /usr/local/lib/python3.9/dist-packages (from tensorflow) (1.22.4)\n",
            "Requirement already satisfied: termcolor>=1.1.0 in /usr/local/lib/python3.9/dist-packages (from tensorflow) (2.2.0)\n",
            "Requirement already satisfied: google-pasta>=0.1.1 in /usr/local/lib/python3.9/dist-packages (from tensorflow) (0.2.0)\n",
            "Requirement already satisfied: h5py>=2.9.0 in /usr/local/lib/python3.9/dist-packages (from tensorflow) (3.8.0)\n",
            "Requirement already satisfied: tensorflow-io-gcs-filesystem>=0.23.1 in /usr/local/lib/python3.9/dist-packages (from tensorflow) (0.31.0)\n",
            "Requirement already satisfied: gast<=0.4.0,>=0.2.1 in /usr/local/lib/python3.9/dist-packages (from tensorflow) (0.4.0)\n",
            "Requirement already satisfied: tensorboard<2.12,>=2.11 in /usr/local/lib/python3.9/dist-packages (from tensorflow) (2.11.2)\n",
            "Requirement already satisfied: six>=1.12.0 in /usr/local/lib/python3.9/dist-packages (from tensorflow) (1.16.0)\n",
            "Requirement already satisfied: wrapt>=1.11.0 in /usr/local/lib/python3.9/dist-packages (from tensorflow) (1.15.0)\n",
            "Requirement already satisfied: flatbuffers>=2.0 in /usr/local/lib/python3.9/dist-packages (from tensorflow) (23.3.3)\n",
            "Requirement already satisfied: packaging in /usr/local/lib/python3.9/dist-packages (from tensorflow) (23.0)\n",
            "Requirement already satisfied: setuptools in /usr/local/lib/python3.9/dist-packages (from tensorflow) (67.6.0)\n",
            "Requirement already satisfied: opt-einsum>=2.3.2 in /usr/local/lib/python3.9/dist-packages (from tensorflow) (3.3.0)\n",
            "Requirement already satisfied: libclang>=13.0.0 in /usr/local/lib/python3.9/dist-packages (from tensorflow) (15.0.6.1)\n",
            "Requirement already satisfied: typing-extensions>=3.6.6 in /usr/local/lib/python3.9/dist-packages (from tensorflow) (4.5.0)\n",
            "Requirement already satisfied: grpcio<2.0,>=1.24.3 in /usr/local/lib/python3.9/dist-packages (from tensorflow) (1.51.3)\n",
            "Requirement already satisfied: keras<2.12,>=2.11.0 in /usr/local/lib/python3.9/dist-packages (from tensorflow) (2.11.0)\n",
            "Requirement already satisfied: astunparse>=1.6.0 in /usr/local/lib/python3.9/dist-packages (from tensorflow) (1.6.3)\n",
            "Requirement already satisfied: tensorflow-estimator<2.12,>=2.11.0 in /usr/local/lib/python3.9/dist-packages (from tensorflow) (2.11.0)\n",
            "Requirement already satisfied: protobuf<3.20,>=3.9.2 in /usr/local/lib/python3.9/dist-packages (from tensorflow) (3.19.6)\n",
            "Requirement already satisfied: absl-py>=1.0.0 in /usr/local/lib/python3.9/dist-packages (from tensorflow) (1.4.0)\n",
            "Requirement already satisfied: wheel<1.0,>=0.23.0 in /usr/local/lib/python3.9/dist-packages (from astunparse>=1.6.0->tensorflow) (0.40.0)\n",
            "Requirement already satisfied: tensorboard-plugin-wit>=1.6.0 in /usr/local/lib/python3.9/dist-packages (from tensorboard<2.12,>=2.11->tensorflow) (1.8.1)\n",
            "Requirement already satisfied: werkzeug>=1.0.1 in /usr/local/lib/python3.9/dist-packages (from tensorboard<2.12,>=2.11->tensorflow) (2.2.3)\n",
            "Requirement already satisfied: google-auth<3,>=1.6.3 in /usr/local/lib/python3.9/dist-packages (from tensorboard<2.12,>=2.11->tensorflow) (2.16.2)\n",
            "Requirement already satisfied: tensorboard-data-server<0.7.0,>=0.6.0 in /usr/local/lib/python3.9/dist-packages (from tensorboard<2.12,>=2.11->tensorflow) (0.6.1)\n",
            "Requirement already satisfied: requests<3,>=2.21.0 in /usr/local/lib/python3.9/dist-packages (from tensorboard<2.12,>=2.11->tensorflow) (2.27.1)\n",
            "Requirement already satisfied: google-auth-oauthlib<0.5,>=0.4.1 in /usr/local/lib/python3.9/dist-packages (from tensorboard<2.12,>=2.11->tensorflow) (0.4.6)\n",
            "Requirement already satisfied: markdown>=2.6.8 in /usr/local/lib/python3.9/dist-packages (from tensorboard<2.12,>=2.11->tensorflow) (3.4.1)\n",
            "Requirement already satisfied: rsa<5,>=3.1.4 in /usr/local/lib/python3.9/dist-packages (from google-auth<3,>=1.6.3->tensorboard<2.12,>=2.11->tensorflow) (4.9)\n",
            "Requirement already satisfied: cachetools<6.0,>=2.0.0 in /usr/local/lib/python3.9/dist-packages (from google-auth<3,>=1.6.3->tensorboard<2.12,>=2.11->tensorflow) (5.3.0)\n",
            "Requirement already satisfied: pyasn1-modules>=0.2.1 in /usr/local/lib/python3.9/dist-packages (from google-auth<3,>=1.6.3->tensorboard<2.12,>=2.11->tensorflow) (0.2.8)\n",
            "Requirement already satisfied: requests-oauthlib>=0.7.0 in /usr/local/lib/python3.9/dist-packages (from google-auth-oauthlib<0.5,>=0.4.1->tensorboard<2.12,>=2.11->tensorflow) (1.3.1)\n",
            "Requirement already satisfied: importlib-metadata>=4.4 in /usr/local/lib/python3.9/dist-packages (from markdown>=2.6.8->tensorboard<2.12,>=2.11->tensorflow) (6.1.0)\n",
            "Requirement already satisfied: urllib3<1.27,>=1.21.1 in /usr/local/lib/python3.9/dist-packages (from requests<3,>=2.21.0->tensorboard<2.12,>=2.11->tensorflow) (1.26.15)\n",
            "Requirement already satisfied: charset-normalizer~=2.0.0 in /usr/local/lib/python3.9/dist-packages (from requests<3,>=2.21.0->tensorboard<2.12,>=2.11->tensorflow) (2.0.12)\n",
            "Requirement already satisfied: idna<4,>=2.5 in /usr/local/lib/python3.9/dist-packages (from requests<3,>=2.21.0->tensorboard<2.12,>=2.11->tensorflow) (3.4)\n",
            "Requirement already satisfied: certifi>=2017.4.17 in /usr/local/lib/python3.9/dist-packages (from requests<3,>=2.21.0->tensorboard<2.12,>=2.11->tensorflow) (2022.12.7)\n",
            "Requirement already satisfied: MarkupSafe>=2.1.1 in /usr/local/lib/python3.9/dist-packages (from werkzeug>=1.0.1->tensorboard<2.12,>=2.11->tensorflow) (2.1.2)\n",
            "Requirement already satisfied: zipp>=0.5 in /usr/local/lib/python3.9/dist-packages (from importlib-metadata>=4.4->markdown>=2.6.8->tensorboard<2.12,>=2.11->tensorflow) (3.15.0)\n",
            "Requirement already satisfied: pyasn1<0.5.0,>=0.4.6 in /usr/local/lib/python3.9/dist-packages (from pyasn1-modules>=0.2.1->google-auth<3,>=1.6.3->tensorboard<2.12,>=2.11->tensorflow) (0.4.8)\n",
            "Requirement already satisfied: oauthlib>=3.0.0 in /usr/local/lib/python3.9/dist-packages (from requests-oauthlib>=0.7.0->google-auth-oauthlib<0.5,>=0.4.1->tensorboard<2.12,>=2.11->tensorflow) (3.2.2)\n",
            "Looking in indexes: https://pypi.org/simple, https://us-python.pkg.dev/colab-wheels/public/simple/\n",
            "Collecting keras_applications\n",
            "  Downloading Keras_Applications-1.0.8-py3-none-any.whl (50 kB)\n",
            "\u001b[2K     \u001b[90m━━━━━━━━━━━━━━━━━━━━━━━━━━━━━━━━━━━━━━━\u001b[0m \u001b[32m50.7/50.7 KB\u001b[0m \u001b[31m629.0 kB/s\u001b[0m eta \u001b[36m0:00:00\u001b[0m\n",
            "\u001b[?25hRequirement already satisfied: h5py in /usr/local/lib/python3.9/dist-packages (from keras_applications) (3.8.0)\n",
            "Requirement already satisfied: numpy>=1.9.1 in /usr/local/lib/python3.9/dist-packages (from keras_applications) (1.22.4)\n",
            "Installing collected packages: keras_applications\n",
            "Successfully installed keras_applications-1.0.8\n"
          ]
        }
      ],
      "source": [
        "#ImportIing required Libraries\n",
        "\n",
        "!pip install shap\n",
        "!pip install tensorflow\n",
        "!pip install keras_applications\n",
        "import tensorflow as tf\n",
        "from tensorflow.keras.utils import to_categorical\n",
        "from tensorflow.keras.preprocessing import image\n",
        "from sklearn.model_selection import train_test_split\n",
        "import numpy as np\n",
        "from PIL import Image\n",
        "from glob import iglob\n",
        "import matplotlib.gridspec as gridspec\n",
        "from tensorflow.keras.models import Sequential\n",
        "from tensorflow.keras.layers import Dense, Flatten, Conv2D, MaxPooling2D\n",
        "from tensorflow.keras.datasets import mnist\n",
        "from tensorflow.keras.layers import BatchNormalization\n",
        "from tensorflow.keras.layers import Dropout\n",
        "from keras.layers import LeakyReLU\n",
        "from tensorflow.keras.datasets import cifar10\n",
        "from tensorflow.keras.utils import to_categorical\n",
        "from matplotlib import pyplot as plt\n",
        "from matplotlib.offsetbox import OffsetImage, AnnotationBbox\n",
        "from scipy.optimize import fmin_l_bfgs_b\n",
        "from sklearn.preprocessing import minmax_scale\n",
        "from sklearn.manifold import TSNE\n",
        "import cv2\n",
        "from tensorflow.keras.utils import to_categorical\n",
        "from tensorflow.keras.preprocessing import image\n",
        "import tensorflow.keras.applications.vgg16 as vgg16\n",
        "import tensorflow.keras.applications.resnet50 as resnet50\n",
        "from sklearn.model_selection import train_test_split\n",
        "from matplotlib import pyplot as plt\n",
        "import numpy as np\n",
        "from PIL import Image\n",
        "from glob import iglob\n",
        "from tensorflow.keras.applications import resnet_v2\n",
        "from tensorflow.keras.applications.resnet_v2 import preprocess_input\n",
        "from tensorflow.keras.applications import ResNet50V2\n",
        "from keras.models import Model\n",
        "from keras.layers import Input, Dense\n",
        "from keras.layers import GlobalAveragePooling2D\n",
        "import tensorflow as tf\n",
        "import tensorflow.compat.v1.keras.backend as K\n",
        "tf.compat.v1.disable_eager_execution()\n",
        "import shap"
      ]
    },
    {
      "cell_type": "code",
      "execution_count": 2,
      "metadata": {
        "colab": {
          "base_uri": "https://localhost:8080/"
        },
        "id": "0rhyzHaUvC7h",
        "outputId": "470d7949-f93c-4ed0-a77c-4381363b7f83"
      },
      "outputs": [
        {
          "output_type": "stream",
          "name": "stdout",
          "text": [
            "Found GPU at: /device:GPU:0\n"
          ]
        }
      ],
      "source": [
        "#CHECK GPU\n",
        "import tensorflow as tf\n",
        "device_name = tf.test.gpu_device_name()\n",
        "if device_name != '/device:GPU:0':\n",
        "  raise SystemError('GPU device not found')\n",
        "print('Found GPU at: {}'.format(device_name))"
      ]
    },
    {
      "cell_type": "code",
      "execution_count": 3,
      "metadata": {
        "colab": {
          "base_uri": "https://localhost:8080/"
        },
        "id": "HElcOXw4NQ4H",
        "outputId": "72be9a97-6d1b-4133-a1f1-9f459a3ae0e0"
      },
      "outputs": [
        {
          "output_type": "stream",
          "name": "stdout",
          "text": [
            "--2023-03-24 09:35:27--  https://github.com/mghatee/Accident-Images-Analysis-Dataset/blob/master/Accident%20Images%20Analysis%20Dataset.rar?raw=true\n",
            "Resolving github.com (github.com)... 140.82.113.3\n",
            "Connecting to github.com (github.com)|140.82.113.3|:443... connected.\n",
            "HTTP request sent, awaiting response... 302 Found\n",
            "Location: https://github.com/mghatee/Accident-Images-Analysis-Dataset/raw/master/Accident%20Images%20Analysis%20Dataset.rar [following]\n",
            "--2023-03-24 09:35:27--  https://github.com/mghatee/Accident-Images-Analysis-Dataset/raw/master/Accident%20Images%20Analysis%20Dataset.rar\n",
            "Reusing existing connection to github.com:443.\n",
            "HTTP request sent, awaiting response... 302 Found\n",
            "Location: https://raw.githubusercontent.com/mghatee/Accident-Images-Analysis-Dataset/master/Accident%20Images%20Analysis%20Dataset.rar [following]\n",
            "--2023-03-24 09:35:27--  https://raw.githubusercontent.com/mghatee/Accident-Images-Analysis-Dataset/master/Accident%20Images%20Analysis%20Dataset.rar\n",
            "Resolving raw.githubusercontent.com (raw.githubusercontent.com)... 185.199.109.133, 185.199.110.133, 185.199.108.133, ...\n",
            "Connecting to raw.githubusercontent.com (raw.githubusercontent.com)|185.199.109.133|:443... connected.\n",
            "HTTP request sent, awaiting response... 200 OK\n",
            "Length: 9684718 (9.2M) [application/octet-stream]\n",
            "Saving to: ‘data.rar’\n",
            "\n",
            "data.rar            100%[===================>]   9.24M  --.-KB/s    in 0.09s   \n",
            "\n",
            "2023-03-24 09:35:28 (99.9 MB/s) - ‘data.rar’ saved [9684718/9684718]\n",
            "\n"
          ]
        }
      ],
      "source": [
        "!wget https://github.com/mghatee/Accident-Images-Analysis-Dataset/blob/master/Accident%20Images%20Analysis%20Dataset.rar?raw=true -O data.rar"
      ]
    },
    {
      "cell_type": "code",
      "execution_count": 4,
      "metadata": {
        "id": "dG0NEpcHNUSF"
      },
      "outputs": [],
      "source": [
        "!unrar x -o+ -y -inul data.rar"
      ]
    },
    {
      "cell_type": "code",
      "execution_count": 5,
      "metadata": {
        "id": "upjvmOgFSrP0"
      },
      "outputs": [],
      "source": [
        "#images\n",
        "basepath = 'Accident Images Analysis Dataset/'\n",
        "\n",
        "def prepare_images(path, num_classes,  load_img_kwargs={}, ext='.jpg'):\n",
        "  X, y = [], []\n",
        "  for class_ in range(num_classes):\n",
        "    for img_path in iglob(path + str(class_ + 1) + '/' + '*' + ext):\n",
        "      img = image.load_img(img_path, **load_img_kwargs)\n",
        "      x = image.img_to_array(img)\n",
        "      X.append(x)\n",
        "      y.append(class_)\n",
        "  return np.array(X), np.array(y)"
      ]
    },
    {
      "cell_type": "code",
      "execution_count": 6,
      "metadata": {
        "colab": {
          "base_uri": "https://localhost:8080/"
        },
        "id": "x1p0HR1HTnR8",
        "outputId": "15450d31-b00f-4b6f-dce4-7d217250d6f2"
      },
      "outputs": [
        {
          "output_type": "execute_result",
          "data": {
            "text/plain": [
              "(2636, 2636, array([0, 1, 2]))"
            ]
          },
          "metadata": {},
          "execution_count": 6
        }
      ],
      "source": [
        "#praparing images\n",
        "X, y = prepare_images(basepath + 'Vehicles-in-Accidents/', 3,  load_img_kwargs={'target_size': (224, 224)})\n",
        "\n",
        "len(X), len(y), np.unique(y)"
      ]
    },
    {
      "cell_type": "code",
      "execution_count": 7,
      "metadata": {
        "colab": {
          "base_uri": "https://localhost:8080/"
        },
        "id": "mxlHE2lxwa-r",
        "outputId": "814af084-a375-4c26-be9a-d019d7bfa668"
      },
      "outputs": [
        {
          "output_type": "execute_result",
          "data": {
            "text/plain": [
              "(2636, 224, 224, 3)"
            ]
          },
          "metadata": {},
          "execution_count": 7
        }
      ],
      "source": [
        "X.shape"
      ]
    },
    {
      "cell_type": "markdown",
      "metadata": {
        "id": "4eTSPTGMnDHJ"
      },
      "source": [
        "**Exercise 1A. Data preprocessing**"
      ]
    },
    {
      "cell_type": "code",
      "execution_count": null,
      "metadata": {
        "id": "tyHY7LjYaek-"
      },
      "outputs": [],
      "source": [
        "#Reference: https://cloudxlab.com/assessment/displayslide/2533/numpy-arrays-example-reshaping-a-complex-array\n"
      ]
    },
    {
      "cell_type": "code",
      "execution_count": 8,
      "metadata": {
        "colab": {
          "base_uri": "https://localhost:8080/"
        },
        "id": "l3xH9__m4GMv",
        "outputId": "fa68dbbc-6ac6-43e1-b936-3ab8fec2c51f"
      },
      "outputs": [
        {
          "output_type": "execute_result",
          "data": {
            "text/plain": [
              "(224, 224, 3)"
            ]
          },
          "metadata": {},
          "execution_count": 8
        }
      ],
      "source": [
        "#Check shape of one of the images in dataset\n",
        "X[800].shape "
      ]
    },
    {
      "cell_type": "markdown",
      "metadata": {
        "id": "l51MRHOYqx6V"
      },
      "source": [
        "\n",
        "## NOTE: dont run below models, causes resouce crash, just read the report and try to understnad, i ahve tried all possibilties ,before finalzing the model"
      ]
    },
    {
      "cell_type": "code",
      "execution_count": 9,
      "metadata": {
        "colab": {
          "base_uri": "https://localhost:8080/"
        },
        "id": "T8qtoRpwtZGp",
        "outputId": "adb5a674-c555-450c-8ab3-f1d3acb182a3"
      },
      "outputs": [
        {
          "output_type": "stream",
          "name": "stdout",
          "text": [
            "1845 1845 791 791\n"
          ]
        }
      ],
      "source": [
        "#Splitting data into test and train\n",
        "X_train, X_test, y_train, y_test = train_test_split(X, y, test_size=0.3, random_state=42)\n",
        "print(len(X_train), len(y_train), len(X_test), len(y_test))"
      ]
    },
    {
      "cell_type": "code",
      "source": [
        "#num_classes = 3\n",
        "#y_train = to_categorical(y_train, num_classes)\n",
        "#y_test  = to_categorical(y_test, num_classes)\n",
        "#print(X_train.shape)"
      ],
      "metadata": {
        "id": "s4qH5ViRE_vA"
      },
      "execution_count": null,
      "outputs": []
    },
    {
      "cell_type": "code",
      "execution_count": 11,
      "metadata": {
        "id": "D8Tk5vUVqxdO",
        "colab": {
          "base_uri": "https://localhost:8080/"
        },
        "outputId": "810fe5fc-f83e-4d57-8eea-377eef3b8400"
      },
      "outputs": [
        {
          "output_type": "stream",
          "name": "stdout",
          "text": [
            "(1845, 224, 224, 3)\n"
          ]
        }
      ],
      "source": [
        "num_classes = 3\n",
        "\n",
        "#X_train = X_train.astype('float32')\n",
        "#X_test  = X_test.astype('float32')\n",
        "X_train /= 255\n",
        "X_test  /= 255\n",
        "#one hot enocding\n",
        "y_train = to_categorical(y_train, num_classes)\n",
        "y_test  = to_categorical(y_test, num_classes)\n",
        "print(X_train.shape)"
      ]
    },
    {
      "cell_type": "code",
      "source": [
        "trial = Sequential()\n",
        "trial.add(Conv2D(8, (3, 3), padding='same', input_shape=(224, 224, 3), activation='relu'))\n",
        "trial.add(Conv2D(8, (3, 3), activation='relu'))\n",
        "trial.add(MaxPooling2D(pool_size=(2, 2)))\n",
        "trial.add(Flatten())\n",
        "trial.add(Dense(64, activation='relu'))\n",
        "trial.add(Dense(num_classes, activation='softmax'))\n",
        "#\n",
        "trial.compile(loss='categorical_crossentropy', optimizer='adam', metrics=['accuracy'])\n",
        "#\n",
        "batch_size = 50\n",
        "epochs = 25\n",
        "\n",
        "trial.fit(X_train, y_train,\n",
        "          batch_size=batch_size,\n",
        "          epochs=epochs,\n",
        "          validation_data=(X_test, y_test),verbose=0)"
      ],
      "metadata": {
        "colab": {
          "base_uri": "https://localhost:8080/"
        },
        "id": "IXygZ1oFRTe2",
        "outputId": "739cf85b-a2da-43a0-eac8-26a2e2f6d8b0"
      },
      "execution_count": null,
      "outputs": [
        {
          "output_type": "execute_result",
          "data": {
            "text/plain": [
              "<keras.callbacks.History at 0x7ff7576d7100>"
            ]
          },
          "metadata": {},
          "execution_count": 44
        }
      ]
    },
    {
      "cell_type": "code",
      "source": [
        "#printing train and test accuracy\n",
        "train_scores = model.evaluate(X_train, y_train, verbose=0)\n",
        "test_scores = model.evaluate(X_test, y_test, verbose=0)\n",
        "\n",
        "print(\"Train loss:\", train_scores[0])\n",
        "print(\"Train accuracy:\", train_scores[1])\n",
        "print(\"Test loss:\", test_scores[0])\n",
        "print(\"Test accuracy:\", test_scores[1])\n"
      ],
      "metadata": {
        "colab": {
          "base_uri": "https://localhost:8080/"
        },
        "id": "o9NSxNLlSVQn",
        "outputId": "ce7cad89-10d7-4401-ca94-c076f3363a47"
      },
      "execution_count": null,
      "outputs": [
        {
          "output_type": "stream",
          "name": "stdout",
          "text": [
            "Train loss: 1.117476019239038\n",
            "Train accuracy: 0.33170733\n",
            "Test loss: 1.1194660751014835\n",
            "Test accuracy: 0.3249052\n"
          ]
        }
      ]
    },
    {
      "cell_type": "markdown",
      "metadata": {
        "id": "5iALwgMIP4F5"
      },
      "source": [
        "## CONVOLUTION NEURAL NETWORK MODEL BUILDING"
      ]
    },
    {
      "cell_type": "code",
      "execution_count": null,
      "metadata": {
        "id": "uGIzlN4VvXkx",
        "colab": {
          "base_uri": "https://localhost:8080/"
        },
        "outputId": "5a7e7065-5b89-4375-ee3c-cddbed8329b6"
      },
      "outputs": [
        {
          "output_type": "stream",
          "name": "stdout",
          "text": [
            "Model: \"sequential_1\"\n",
            "_________________________________________________________________\n",
            " Layer (type)                Output Shape              Param #   \n",
            "=================================================================\n",
            " conv2d_2 (Conv2D)           (None, 224, 224, 8)       224       \n",
            "                                                                 \n",
            " conv2d_3 (Conv2D)           (None, 222, 222, 8)       584       \n",
            "                                                                 \n",
            " max_pooling2d_1 (MaxPooling  (None, 111, 111, 8)      0         \n",
            " 2D)                                                             \n",
            "                                                                 \n",
            " flatten_1 (Flatten)         (None, 98568)             0         \n",
            "                                                                 \n",
            " dense_2 (Dense)             (None, 64)                6308416   \n",
            "                                                                 \n",
            " dense_3 (Dense)             (None, 3)                 195       \n",
            "                                                                 \n",
            "=================================================================\n",
            "Total params: 6,309,419\n",
            "Trainable params: 6,309,419\n",
            "Non-trainable params: 0\n",
            "_________________________________________________________________\n"
          ]
        }
      ],
      "source": [
        "#initalizinfg simple  with 2 conv layers\n",
        "model = Sequential()\n",
        "model.add(Conv2D(8, (3, 3), padding='same', input_shape=(224, 224, 3), activation='relu'))\n",
        "model.add(Conv2D(8, (3, 3), activation='relu'))\n",
        "model.add(MaxPooling2D(pool_size=(2, 2)))\n",
        "model.add(Flatten())\n",
        "model.add(Dense(64, activation='relu'))\n",
        "model.add(Dense(num_classes, activation='softmax'))\n",
        "model.summary()"
      ]
    },
    {
      "cell_type": "code",
      "execution_count": null,
      "metadata": {
        "id": "WbpCprAWvkFf"
      },
      "outputs": [],
      "source": [
        "model.compile(loss='categorical_crossentropy', optimizer='adam', metrics=['accuracy'])"
      ]
    },
    {
      "cell_type": "markdown",
      "metadata": {
        "id": "jAHftOgmias5"
      },
      "source": []
    },
    {
      "cell_type": "code",
      "execution_count": null,
      "metadata": {
        "id": "2V9NQpfpNKLA"
      },
      "outputs": [],
      "source": []
    },
    {
      "cell_type": "code",
      "execution_count": null,
      "metadata": {
        "id": "K-CK-XMYy6Su",
        "colab": {
          "base_uri": "https://localhost:8080/"
        },
        "outputId": "98a81702-40a1-4735-86d0-0ccda5b0be1d"
      },
      "outputs": [
        {
          "output_type": "stream",
          "name": "stderr",
          "text": [
            "`Model.state_updates` will be removed in a future version. This property should not be used in TensorFlow 2.0, as `updates` are applied automatically.\n"
          ]
        },
        {
          "output_type": "execute_result",
          "data": {
            "text/plain": [
              "<keras.callbacks.History at 0x7ff7d0e000d0>"
            ]
          },
          "metadata": {},
          "execution_count": 15
        }
      ],
      "source": [
        "# trying wiht batch size 50, more than this its getting crashed \n",
        "batch_size = 50\n",
        "epochs = 15\n",
        "\n",
        "model.fit(X_train, y_train,\n",
        "          batch_size=batch_size,\n",
        "          epochs=epochs,\n",
        "          validation_data=(X_test, y_test),verbose=0)"
      ]
    },
    {
      "cell_type": "code",
      "execution_count": null,
      "metadata": {
        "id": "Kp2KI3c2T66J",
        "colab": {
          "base_uri": "https://localhost:8080/"
        },
        "outputId": "0de28385-d4da-4ee1-9449-0e3867b2aa52"
      },
      "outputs": [
        {
          "output_type": "stream",
          "name": "stdout",
          "text": [
            "Train loss: 0.017922245563187087\n",
            "Train accuracy: 0.99728996\n",
            "Test loss: 1.456279737834834\n",
            "Test accuracy: 0.70037925\n"
          ]
        }
      ],
      "source": [
        "#printing train and test accuracy\n",
        "train_scores = model.evaluate(X_train, y_train, verbose=0)\n",
        "test_scores = model.evaluate(X_test, y_test, verbose=0)\n",
        "\n",
        "print(\"Train loss:\", train_scores[0])\n",
        "print(\"Train accuracy:\", train_scores[1])\n",
        "print(\"Test loss:\", test_scores[0])\n",
        "print(\"Test accuracy:\", test_scores[1])\n"
      ]
    },
    {
      "cell_type": "markdown",
      "metadata": {
        "id": "cL0_UPoej2z6"
      },
      "source": [
        " From these metrics, we can see that the training loss is 0.1551 and the training accuracy is 0.9550, \n",
        "which indicates that the model is performing well on the training dataset. However, the validation loss is 0.8496 and the validation accuracy is 0.7004, \n",
        "which are significantly worse than the corresponding training metrics. \n",
        "This suggests that the model may be overfitting to the training dataset and is not generalizing well to the validation dataset"
      ]
    },
    {
      "cell_type": "code",
      "execution_count": null,
      "metadata": {
        "id": "BNwgvv6yZLpB",
        "colab": {
          "base_uri": "https://localhost:8080/"
        },
        "outputId": "b908596a-3617-4099-e813-a60ee33ff140"
      },
      "outputs": [
        {
          "output_type": "stream",
          "name": "stdout",
          "text": [
            "Train on 1845 samples, validate on 791 samples\n",
            "Epoch 1/30\n",
            "1845/1845 [==============================] - 2s 1ms/sample - loss: 0.0275 - accuracy: 0.9962 - val_loss: 1.4089 - val_accuracy: 0.6827\n",
            "Epoch 2/30\n",
            "1845/1845 [==============================] - 2s 1ms/sample - loss: 0.0188 - accuracy: 0.9962 - val_loss: 1.6381 - val_accuracy: 0.6802\n",
            "Epoch 3/30\n",
            "1845/1845 [==============================] - 2s 1ms/sample - loss: 0.0242 - accuracy: 0.9967 - val_loss: 1.5848 - val_accuracy: 0.6839\n",
            "Epoch 4/30\n",
            "1845/1845 [==============================] - 2s 1ms/sample - loss: 0.0162 - accuracy: 0.9973 - val_loss: 1.6743 - val_accuracy: 0.6738\n",
            "Epoch 5/30\n",
            "1845/1845 [==============================] - 2s 1ms/sample - loss: 0.0215 - accuracy: 0.9957 - val_loss: 1.7667 - val_accuracy: 0.6839\n",
            "Epoch 6/30\n",
            "1845/1845 [==============================] - 2s 1ms/sample - loss: 0.0172 - accuracy: 0.9967 - val_loss: 1.6688 - val_accuracy: 0.6802\n",
            "Epoch 7/30\n",
            "1845/1845 [==============================] - 2s 1ms/sample - loss: 0.0158 - accuracy: 0.9973 - val_loss: 1.6574 - val_accuracy: 0.6915\n",
            "Epoch 8/30\n",
            "1845/1845 [==============================] - 2s 1ms/sample - loss: 0.0147 - accuracy: 0.9967 - val_loss: 1.7958 - val_accuracy: 0.6979\n",
            "Epoch 9/30\n",
            "1845/1845 [==============================] - 2s 1ms/sample - loss: 0.0178 - accuracy: 0.9967 - val_loss: 1.6900 - val_accuracy: 0.6839\n",
            "Epoch 10/30\n",
            "1845/1845 [==============================] - 2s 1ms/sample - loss: 0.0266 - accuracy: 0.9951 - val_loss: 1.5778 - val_accuracy: 0.6979\n",
            "Epoch 11/30\n",
            "1845/1845 [==============================] - 2s 1ms/sample - loss: 0.0216 - accuracy: 0.9946 - val_loss: 1.7084 - val_accuracy: 0.6865\n",
            "Epoch 12/30\n",
            "1845/1845 [==============================] - 2s 1ms/sample - loss: 0.0179 - accuracy: 0.9967 - val_loss: 1.7223 - val_accuracy: 0.6979\n",
            "Epoch 13/30\n",
            "1845/1845 [==============================] - 2s 987us/sample - loss: 0.0149 - accuracy: 0.9973 - val_loss: 1.7771 - val_accuracy: 0.7004\n",
            "Epoch 14/30\n",
            "1845/1845 [==============================] - 2s 1ms/sample - loss: 0.0107 - accuracy: 0.9978 - val_loss: 1.7755 - val_accuracy: 0.6928\n",
            "Epoch 15/30\n",
            "1845/1845 [==============================] - 2s 1ms/sample - loss: 0.0218 - accuracy: 0.9962 - val_loss: 1.7480 - val_accuracy: 0.7004\n",
            "Epoch 16/30\n",
            "1845/1845 [==============================] - 2s 1ms/sample - loss: 0.0165 - accuracy: 0.9962 - val_loss: 1.8237 - val_accuracy: 0.6979\n",
            "Epoch 17/30\n",
            "1845/1845 [==============================] - 3s 2ms/sample - loss: 0.0170 - accuracy: 0.9973 - val_loss: 1.7770 - val_accuracy: 0.6991\n",
            "Epoch 18/30\n",
            "1845/1845 [==============================] - 2s 1ms/sample - loss: 0.0146 - accuracy: 0.9978 - val_loss: 1.7041 - val_accuracy: 0.6877\n",
            "Epoch 19/30\n",
            "1845/1845 [==============================] - 2s 966us/sample - loss: 0.0147 - accuracy: 0.9967 - val_loss: 1.8667 - val_accuracy: 0.6928\n",
            "Epoch 20/30\n",
            "1845/1845 [==============================] - 2s 1ms/sample - loss: 0.0133 - accuracy: 0.9973 - val_loss: 1.9430 - val_accuracy: 0.6814\n",
            "Epoch 21/30\n",
            "1845/1845 [==============================] - 2s 1ms/sample - loss: 0.0159 - accuracy: 0.9967 - val_loss: 1.8049 - val_accuracy: 0.6890\n",
            "Epoch 22/30\n",
            "1845/1845 [==============================] - 2s 1ms/sample - loss: 0.0164 - accuracy: 0.9967 - val_loss: 1.8909 - val_accuracy: 0.6839\n",
            "Epoch 23/30\n",
            "1845/1845 [==============================] - 2s 1ms/sample - loss: 0.0118 - accuracy: 0.9978 - val_loss: 1.8308 - val_accuracy: 0.6852\n",
            "Epoch 24/30\n",
            "1845/1845 [==============================] - 2s 1ms/sample - loss: 0.0121 - accuracy: 0.9973 - val_loss: 1.7949 - val_accuracy: 0.6928\n",
            "Epoch 25/30\n",
            "1845/1845 [==============================] - 2s 1ms/sample - loss: 0.0106 - accuracy: 0.9967 - val_loss: 1.8311 - val_accuracy: 0.6877\n",
            "Epoch 26/30\n",
            "1845/1845 [==============================] - 2s 1ms/sample - loss: 0.0146 - accuracy: 0.9978 - val_loss: 1.7451 - val_accuracy: 0.6764\n",
            "Epoch 27/30\n",
            "1845/1845 [==============================] - 2s 1ms/sample - loss: 0.0137 - accuracy: 0.9973 - val_loss: 1.8609 - val_accuracy: 0.6941\n",
            "Epoch 28/30\n",
            "1845/1845 [==============================] - 2s 1ms/sample - loss: 0.0155 - accuracy: 0.9973 - val_loss: 1.8284 - val_accuracy: 0.6789\n",
            "Epoch 29/30\n",
            "1845/1845 [==============================] - 2s 1ms/sample - loss: 0.0104 - accuracy: 0.9978 - val_loss: 1.9124 - val_accuracy: 0.6814\n",
            "Epoch 30/30\n",
            "1845/1845 [==============================] - 2s 1ms/sample - loss: 0.0188 - accuracy: 0.9962 - val_loss: 1.7368 - val_accuracy: 0.6814\n"
          ]
        },
        {
          "output_type": "execute_result",
          "data": {
            "text/plain": [
              "<keras.callbacks.History at 0x7f1a3c2e7eb0>"
            ]
          },
          "metadata": {},
          "execution_count": 36
        }
      ],
      "source": [
        "#trying model with 30 Epoches , keeping batch size same\n",
        "batch_size = 50\n",
        "epochs = 30\n",
        "model.fit(X_train, y_train,\n",
        "          batch_size=batch_size,\n",
        "          epochs=epochs,\n",
        "          validation_data=(X_test, y_test))"
      ]
    },
    {
      "cell_type": "code",
      "execution_count": null,
      "metadata": {
        "id": "o312J-d20u3g",
        "colab": {
          "base_uri": "https://localhost:8080/"
        },
        "outputId": "b78b054e-b87d-47c4-a779-0e74e57de2fc"
      },
      "outputs": [
        {
          "output_type": "stream",
          "name": "stdout",
          "text": [
            "Train loss: 0.007185089466449752\n",
            "Train accuracy: 0.997832\n",
            "Test loss: 1.7368354788320857\n",
            "Test accuracy: 0.6814159\n"
          ]
        }
      ],
      "source": [
        "train_scores = model.evaluate(X_train, y_train, verbose=0)\n",
        "test_scores = model.evaluate(X_test, y_test, verbose=0)\n",
        "\n",
        "print(\"Train loss:\", train_scores[0])\n",
        "print(\"Train accuracy:\", train_scores[1])\n",
        "print(\"Test loss:\", test_scores[0])\n",
        "print(\"Test accuracy:\", test_scores[1])"
      ]
    },
    {
      "cell_type": "markdown",
      "source": [
        "From these metrics, we can see that the training loss is 0.01 and the training accuracy is 0.99, \n",
        "which indicates that the model is performing well on the training dataset. However, the validation loss is 1.736 and the validation accuracy is 0.68, \n",
        "which are significantly worse than the corresponding training metrics. \n",
        "so model is overfitting.its not very well genealized model to perform on unseen data ."
      ],
      "metadata": {
        "id": "lI1WgOAs1529"
      }
    },
    {
      "cell_type": "markdown",
      "metadata": {
        "id": "Nsofk9c9m-2P"
      },
      "source": [
        "##  Summary:\n",
        "#### batch_size =50\n",
        "\n",
        "#### epoche =15 and 30 \n",
        "\n",
        "The initial models with the specified architecture\n",
        "\n",
        "2 convolutional layers with 3x3 filters, \n",
        "\n",
        "ReLU activation function,\n",
        "\n",
        "maximum pooling 2D, and a dense layer with 64 neurons \n",
        "\n",
        "are performing well on the training data, but they are unable to generalize well on unseen data for the given batch_size and epoche. Therefore, hyperparameter tuning is necessary to build a more generalized model that can perform well on both the training and test data. \n",
        "\n",
        "\n"
      ]
    },
    {
      "cell_type": "markdown",
      "metadata": {
        "id": "zFA0JueznyIM"
      },
      "source": [
        "## NOTE :\n",
        " we are keeping batch_size 50 and epoche 30,, if we are increasing these parameters, its getting crashed"
      ]
    },
    {
      "cell_type": "markdown",
      "metadata": {
        "id": "5WcldbfnqF0N"
      },
      "source": [
        "\n",
        "## HYPERTUNING \n",
        " Stride size in each convolutional layer\n",
        "\n",
        "Padding type in each convolutional layer\n",
        "\n",
        "Activation function used in each layer\n",
        "\n",
        "Learning rate of the optimizer used for training the network\n",
        "\n",
        "Type of optimizer used (e.g. SGD, Adam, Adagrad, etc.)\n",
        "\n",
        "Batch size used during training\n",
        "\n",
        "Number of epochs for training\n",
        "\n",
        "Dropout rate used in the fully connected layers\n",
        "\n",
        "L1 or L2 regularization strength for the convolutional and fully connected layers\n",
        "\n",
        "Initialization method for the weights (e.g. random normal, random uniform, etc.)\n",
        "\n",
        "Pooling size and type (max, average) in the pooling layers\n",
        "\n",
        "Architecture of the network (number of layers, size of layers, etc.)\n",
        "\n",
        "Type of data augmentation techniques used (e.g. rotation, translation, flipping, etc.)\n"
      ]
    },
    {
      "cell_type": "markdown",
      "source": [
        "## 1) Hyper Tuning -- Increasing size and number of filters"
      ],
      "metadata": {
        "id": "DWrP50nxDv-e"
      }
    },
    {
      "cell_type": "code",
      "execution_count": null,
      "metadata": {
        "id": "hrXJPxrIlaXZ"
      },
      "outputs": [],
      "source": [
        "# define the model archtecture\n",
        "\n",
        "    model_hyp1 = Sequential()\n",
        "    model_hyp1.add(Conv2D(12, (4, 4), padding='same', input_shape=input_shape, activation='relu'))\n",
        "    model_hyp1.add(Conv2D(12, (4, 4), activation='relu'))\n",
        "    model_hyp1.add(MaxPooling2D(pool_size=(2, 2)))\n",
        "    model_hyp1.add(Flatten())\n",
        "    model_hyp1.add(Dense(64, activation='relu'))\n",
        "    model_hyp1.add(Dense(num_classes, activation='softmax'))\n",
        "  \n",
        "  #model_hyp1.summary()"
      ]
    },
    {
      "cell_type": "code",
      "execution_count": null,
      "metadata": {
        "id": "X12yUf5dlaU5"
      },
      "outputs": [],
      "source": [
        "#complie the model\n",
        "model_hyp1.compile(loss='categorical_crossentropy', optimizer='adam', metrics=['accuracy'])"
      ]
    },
    {
      "cell_type": "code",
      "execution_count": null,
      "metadata": {
        "id": "sBhVj3a4laSb",
        "colab": {
          "base_uri": "https://localhost:8080/"
        },
        "outputId": "69fda45a-29f8-4b3b-841f-2ea2db795bd7"
      },
      "outputs": [
        {
          "output_type": "stream",
          "name": "stdout",
          "text": [
            "Train on 1845 samples, validate on 791 samples\n",
            "Epoch 1/30\n",
            "1845/1845 [==============================] - ETA: 0s - loss: 3.9297 - accuracy: 0.4130"
          ]
        },
        {
          "output_type": "stream",
          "name": "stderr",
          "text": [
            "`Model.state_updates` will be removed in a future version. This property should not be used in TensorFlow 2.0, as `updates` are applied automatically.\n"
          ]
        },
        {
          "output_type": "stream",
          "name": "stdout",
          "text": [
            "\b\b\b\b\b\b\b\b\b\b\b\b\b\b\b\b\b\b\b\b\b\b\b\b\b\b\b\b\b\b\b\b\b\b\b\b\b\b\b\b\b\b\b\b\b\b\b\b\b\b\b\b\b\b\b\b\b\b\b\b\b\b\b\b\b\b\b\b\b\b\b\b\b\b\b\b\b\b\b\b\b\b\b\b\b\b\r1845/1845 [==============================] - 5s 3ms/sample - loss: 3.9297 - accuracy: 0.4130 - val_loss: 1.0024 - val_accuracy: 0.5310\n",
            "Epoch 2/30\n",
            "1845/1845 [==============================] - 3s 2ms/sample - loss: 0.8162 - accuracy: 0.6623 - val_loss: 0.9275 - val_accuracy: 0.5904\n",
            "Epoch 3/30\n",
            "1845/1845 [==============================] - 3s 2ms/sample - loss: 0.5984 - accuracy: 0.7707 - val_loss: 0.8767 - val_accuracy: 0.6485\n",
            "Epoch 4/30\n",
            "1845/1845 [==============================] - 3s 2ms/sample - loss: 0.3656 - accuracy: 0.8596 - val_loss: 0.8680 - val_accuracy: 0.6865\n",
            "Epoch 5/30\n",
            "1845/1845 [==============================] - 3s 2ms/sample - loss: 0.2088 - accuracy: 0.9301 - val_loss: 0.9302 - val_accuracy: 0.6764\n",
            "Epoch 6/30\n",
            "1845/1845 [==============================] - 3s 2ms/sample - loss: 0.1003 - accuracy: 0.9762 - val_loss: 1.0663 - val_accuracy: 0.6890\n",
            "Epoch 7/30\n",
            "1845/1845 [==============================] - 3s 2ms/sample - loss: 0.0571 - accuracy: 0.9919 - val_loss: 1.1559 - val_accuracy: 0.6877\n",
            "Epoch 8/30\n",
            "1845/1845 [==============================] - 3s 2ms/sample - loss: 0.0338 - accuracy: 0.9957 - val_loss: 1.2075 - val_accuracy: 0.6915\n",
            "Epoch 9/30\n",
            "1845/1845 [==============================] - 3s 2ms/sample - loss: 0.0315 - accuracy: 0.9967 - val_loss: 1.2667 - val_accuracy: 0.6979\n",
            "Epoch 10/30\n",
            "1845/1845 [==============================] - 3s 2ms/sample - loss: 0.0247 - accuracy: 0.9957 - val_loss: 1.3315 - val_accuracy: 0.7029\n",
            "Epoch 11/30\n",
            "1845/1845 [==============================] - 3s 2ms/sample - loss: 0.0292 - accuracy: 0.9962 - val_loss: 1.1927 - val_accuracy: 0.6839\n",
            "Epoch 12/30\n",
            "1845/1845 [==============================] - 3s 2ms/sample - loss: 0.0232 - accuracy: 0.9967 - val_loss: 1.4553 - val_accuracy: 0.7042\n",
            "Epoch 13/30\n",
            "1845/1845 [==============================] - 3s 2ms/sample - loss: 0.0317 - accuracy: 0.9962 - val_loss: 1.4192 - val_accuracy: 0.6941\n",
            "Epoch 14/30\n",
            "1845/1845 [==============================] - 3s 2ms/sample - loss: 0.0212 - accuracy: 0.9967 - val_loss: 1.4371 - val_accuracy: 0.6928\n",
            "Epoch 15/30\n",
            "1845/1845 [==============================] - 3s 2ms/sample - loss: 0.0280 - accuracy: 0.9962 - val_loss: 1.4778 - val_accuracy: 0.6713\n",
            "Epoch 16/30\n",
            "1845/1845 [==============================] - 3s 2ms/sample - loss: 0.0133 - accuracy: 0.9973 - val_loss: 1.4186 - val_accuracy: 0.6751\n",
            "Epoch 17/30\n",
            "1845/1845 [==============================] - 3s 2ms/sample - loss: 0.0186 - accuracy: 0.9967 - val_loss: 1.5204 - val_accuracy: 0.6802\n",
            "Epoch 18/30\n",
            "1845/1845 [==============================] - 3s 2ms/sample - loss: 0.0208 - accuracy: 0.9962 - val_loss: 1.5214 - val_accuracy: 0.6713\n",
            "Epoch 19/30\n",
            "1845/1845 [==============================] - 3s 2ms/sample - loss: 0.0208 - accuracy: 0.9962 - val_loss: 1.6243 - val_accuracy: 0.6890\n",
            "Epoch 20/30\n",
            "1845/1845 [==============================] - 3s 2ms/sample - loss: 0.0263 - accuracy: 0.9967 - val_loss: 1.3966 - val_accuracy: 0.6738\n",
            "Epoch 21/30\n",
            "1845/1845 [==============================] - 3s 2ms/sample - loss: 0.0165 - accuracy: 0.9967 - val_loss: 1.4785 - val_accuracy: 0.6789\n",
            "Epoch 22/30\n",
            "1845/1845 [==============================] - 3s 2ms/sample - loss: 0.0152 - accuracy: 0.9967 - val_loss: 1.5930 - val_accuracy: 0.6802\n",
            "Epoch 23/30\n",
            "1845/1845 [==============================] - 4s 2ms/sample - loss: 0.0198 - accuracy: 0.9978 - val_loss: 1.4869 - val_accuracy: 0.6688\n",
            "Epoch 24/30\n",
            "1845/1845 [==============================] - 3s 2ms/sample - loss: 0.0181 - accuracy: 0.9957 - val_loss: 1.5251 - val_accuracy: 0.6941\n",
            "Epoch 25/30\n",
            "1845/1845 [==============================] - 3s 2ms/sample - loss: 0.0117 - accuracy: 0.9962 - val_loss: 1.6528 - val_accuracy: 0.6751\n",
            "Epoch 26/30\n",
            "1845/1845 [==============================] - 3s 2ms/sample - loss: 0.0139 - accuracy: 0.9978 - val_loss: 1.5439 - val_accuracy: 0.6814\n",
            "Epoch 27/30\n",
            "1845/1845 [==============================] - 3s 2ms/sample - loss: 0.0104 - accuracy: 0.9978 - val_loss: 1.5636 - val_accuracy: 0.6713\n",
            "Epoch 28/30\n",
            "1845/1845 [==============================] - 3s 2ms/sample - loss: 0.0129 - accuracy: 0.9973 - val_loss: 1.6353 - val_accuracy: 0.6890\n",
            "Epoch 29/30\n",
            "1845/1845 [==============================] - 3s 2ms/sample - loss: 0.0100 - accuracy: 0.9973 - val_loss: 1.6071 - val_accuracy: 0.6764\n",
            "Epoch 30/30\n",
            "1845/1845 [==============================] - 3s 2ms/sample - loss: 0.0162 - accuracy: 0.9962 - val_loss: 1.7971 - val_accuracy: 0.6877\n"
          ]
        }
      ],
      "source": [
        "# fit the model\n",
        "batch_size = 50\n",
        "epochs = 30\n",
        "\n",
        "CNN_HYP= model_hyp1.fit(X_train, y_train,\n",
        "          batch_size=batch_size,\n",
        "          epochs=epochs,\n",
        "          validation_data=(X_test, y_test),verbose=1)"
      ]
    },
    {
      "cell_type": "markdown",
      "source": [
        "increasing size and number of filters further leadinf to overfitting , test accuracy is dropped by 1% over our initial models"
      ],
      "metadata": {
        "id": "CkasjuLyQufW"
      }
    },
    {
      "cell_type": "code",
      "source": [
        "plt.plot(hist.history['accuracy'])\n",
        "plt.plot(hist.history['val_accuracy'])\n"
      ],
      "metadata": {
        "id": "RaQnJOQeDieU"
      },
      "execution_count": null,
      "outputs": []
    },
    {
      "cell_type": "markdown",
      "source": [
        "## increasing number of dense layers"
      ],
      "metadata": {
        "id": "bawx0SY8ZTXZ"
      }
    },
    {
      "cell_type": "code",
      "execution_count": null,
      "metadata": {
        "id": "YaHeiKChtmBZ"
      },
      "outputs": [],
      "source": [
        "# changingn Number of hidden layers and Epoche\n",
        "# filter size =3 *3, number of ileters=20\n",
        "# 150 hidden layer crashed , so changing to 135\n",
        "model_hyp2 = Sequential()\n",
        "model_hyp2.add(Conv2D(8, (3, 3), padding='same', input_shape=(224, 224, 3), activation='relu'))\n",
        "model_hyp2.add(Conv2D(8, (3, 3), activation='relu'))\n",
        "model_hyp2.add(MaxPooling2D(pool_size=(2, 2)))\n",
        "model_hyp2.add(Flatten())\n",
        "model_hyp2.add(Dense(90, activation='relu'))\n",
        "model_hyp2.add(Dense(num_classes, activation='softmax'))\n",
        "#model_hyp2.summary()\n",
        "\n",
        "#compile\n",
        "model_hyp2.compile(loss='categorical_crossentropy', optimizer='adam', metrics=['accuracy'])"
      ]
    },
    {
      "cell_type": "code",
      "execution_count": null,
      "metadata": {
        "id": "MHs9Gz8eznkH",
        "colab": {
          "base_uri": "https://localhost:8080/"
        },
        "outputId": "961a996a-f1de-4b6c-d51c-f3151a57e814"
      },
      "outputs": [
        {
          "output_type": "stream",
          "name": "stderr",
          "text": [
            "`Model.state_updates` will be removed in a future version. This property should not be used in TensorFlow 2.0, as `updates` are applied automatically.\n"
          ]
        },
        {
          "output_type": "execute_result",
          "data": {
            "text/plain": [
              "<keras.callbacks.History at 0x7ff7576638b0>"
            ]
          },
          "metadata": {},
          "execution_count": 47
        }
      ],
      "source": [
        "#fitting model\n",
        "batch_size = 50\n",
        "epochs = 30\n",
        "\n",
        "model_hyp2.fit(X_train, y_train,\n",
        "          batch_size=batch_size,\n",
        "          epochs=epochs,\n",
        "          validation_data=(X_test, y_test),verbose=0)"
      ]
    },
    {
      "cell_type": "code",
      "execution_count": null,
      "metadata": {
        "id": "8fjviVbyzngu",
        "colab": {
          "base_uri": "https://localhost:8080/"
        },
        "outputId": "7edaa992-73aa-4110-c94c-c3cfe182bfc5"
      },
      "outputs": [
        {
          "output_type": "stream",
          "name": "stdout",
          "text": [
            "Train loss: 0.009431421369071899\n",
            "Train accuracy: 0.997832\n",
            "Test loss: 1.4992079919418402\n",
            "Test accuracy: 0.7092288\n"
          ]
        }
      ],
      "source": [
        "#results\n",
        "train_scores = model_hyp2.evaluate(X_train, y_train, verbose=0)\n",
        "test_scores = model_hyp2.evaluate(X_test, y_test, verbose=0)\n",
        "print(\"Train loss:\", train_scores[0])\n",
        "print(\"Train accuracy:\", train_scores[1])\n",
        "print(\"Test loss:\", test_scores[0])\n",
        "print(\"Test accuracy:\", test_scores[1])"
      ]
    },
    {
      "cell_type": "markdown",
      "source": [
        "just increasing the dense layers still leads to overfitting"
      ],
      "metadata": {
        "id": "J-nN2b28WBX0"
      }
    },
    {
      "cell_type": "markdown",
      "source": [
        "#No pooling"
      ],
      "metadata": {
        "id": "w6ND3rzQZaBR"
      }
    },
    {
      "cell_type": "code",
      "source": [
        "# no ppol modeling\n",
        "nopool = Sequential()\n",
        "nopool.add(Conv2D(8, (3, 3), padding='same', input_shape=(224, 224, 3), activation='relu'))\n",
        "nopool.add(Conv2D(8, (3, 3), activation='relu'))\n",
        "nopool.add(Flatten())\n",
        "nopool.add(Dense(64, activation='relu'))\n",
        "nopool.add(Dense(num_classes, activation='softmax'))\n",
        "\n",
        "#compile\n",
        "nopool.compile(loss='categorical_crossentropy', optimizer='adam', metrics=['accuracy'])\n"
      ],
      "metadata": {
        "id": "HDMjV7x0WYma"
      },
      "execution_count": null,
      "outputs": []
    },
    {
      "cell_type": "code",
      "source": [
        "#model\n",
        "batch_size = 50\n",
        "epochs = 30\n",
        "\n",
        "nopool.fit(X_train, y_train,\n",
        "          batch_size=batch_size,\n",
        "          epochs=epochs,\n",
        "          validation_data=(X_test, y_test),verbose=0)"
      ],
      "metadata": {
        "colab": {
          "base_uri": "https://localhost:8080/"
        },
        "id": "edz3qm9UWumw",
        "outputId": "b3ae59e4-e277-4b65-c5e7-a9181770bde6"
      },
      "execution_count": null,
      "outputs": [
        {
          "output_type": "execute_result",
          "data": {
            "text/plain": [
              "<keras.callbacks.History at 0x7ff7d0ae0f70>"
            ]
          },
          "metadata": {},
          "execution_count": 54
        }
      ]
    },
    {
      "cell_type": "code",
      "source": [
        "#results\n",
        "train_scores = model_hyp2.evaluate(X_train, y_train, verbose=0)\n",
        "test_scores = model_hyp2.evaluate(X_test, y_test, verbose=0)\n",
        "print(\"Train loss:\", train_scores[0])\n",
        "print(\"Train accuracy:\", train_scores[1])\n",
        "print(\"Test loss:\", test_scores[0])\n",
        "print(\"Test accuracy:\", test_scores[1])"
      ],
      "metadata": {
        "colab": {
          "base_uri": "https://localhost:8080/"
        },
        "id": "JXIwlDLNXvdq",
        "outputId": "af912da8-24fc-4670-c592-d52e5fa704fe"
      },
      "execution_count": null,
      "outputs": [
        {
          "output_type": "stream",
          "name": "stdout",
          "text": [
            "Train loss: 0.009431421369071899\n",
            "Train accuracy: 0.997832\n",
            "Test loss: 1.4992079919418402\n",
            "Test accuracy: 0.7092288\n"
          ]
        }
      ]
    },
    {
      "cell_type": "markdown",
      "source": [
        "## AVerage Pooling\n",
        "# run this cell with 64 layers"
      ],
      "metadata": {
        "id": "23Udi1eLWYOM"
      }
    },
    {
      "cell_type": "code",
      "source": [
        "#averageppol\n",
        "from keras.layers import AveragePooling2D\n",
        "\n",
        "avg_pool = Sequential()\n",
        "avg_pool.add(Conv2D(8, (3, 3), padding='same', input_shape=(224, 224, 3), activation='relu'))\n",
        "avg_pool.add(Conv2D(8, (3, 3), activation='relu'))\n",
        "avg_pool.add(AveragePooling2D(pool_size=(2, 2), padding='same'))\n",
        "avg_pool.add(AveragePooling2D(pool_size=(2, 2), padding='valid'))\n",
        "avg_pool.add(Flatten())\n",
        "avg_pool.add(Dense(64, activation='relu'))\n",
        "avg_pool.add(Dense(num_classes, activation='softmax'))\n",
        "\n",
        "#compile\n",
        "avg_pool.compile(loss='categorical_crossentropy', optimizer='adam', metrics=['accuracy'])\n",
        "\n",
        "#model\n",
        "batch_size = 50\n",
        "epochs = 30\n",
        "\n",
        "avg_pool.fit(X_train, y_train,\n",
        "          batch_size=batch_size,\n",
        "          epochs=epochs,\n",
        "          validation_data=(X_test, y_test),verbose=0)\n",
        "\n",
        "#results\n",
        "train_scores =avg_pool.evaluate(X_train, y_train, verbose=0)\n",
        "test_scores = avg_pool.evaluate(X_test, y_test, verbose=0)\n",
        "print(\"Train loss:\", train_scores[0])\n",
        "print(\"Train accuracy:\", train_scores[1])\n",
        "print(\"Test loss:\", test_scores[0])\n",
        "print(\"Test accuracy:\", test_scores[1])"
      ],
      "metadata": {
        "colab": {
          "base_uri": "https://localhost:8080/"
        },
        "id": "d5_c2N60afi1",
        "outputId": "d77b3b4e-6737-499c-ffd5-20fca99187ef"
      },
      "execution_count": null,
      "outputs": [
        {
          "output_type": "stream",
          "name": "stdout",
          "text": [
            "Train loss: 0.016812595410075615\n",
            "Train accuracy: 0.997832\n",
            "Test loss: 1.4625233642370752\n",
            "Test accuracy: 0.7243995\n"
          ]
        }
      ]
    },
    {
      "cell_type": "markdown",
      "source": [
        "with average pooling we see, bit increase in test accuracy but still , overfitting significantly reduced"
      ],
      "metadata": {
        "id": "jhYlVC7ncrbM"
      }
    },
    {
      "cell_type": "markdown",
      "source": [
        "## No padding , changing activation function "
      ],
      "metadata": {
        "id": "WyfrwR2_dtdM"
      }
    },
    {
      "cell_type": "code",
      "source": [
        "#no padding \n",
        "no_pad = Sequential()\n",
        "no_pad.add(Conv2D(8, (3, 3),input_shape=(224, 224, 3), activation='relu'))\n",
        "no_pad.add(Conv2D(8, (3, 3), activation='sigmoid'))\n",
        "no_pad.add(AveragePooling2D(pool_size=(2, 2)))\n",
        "no_pad.add(AveragePooling2D(pool_size=(2, 2)))\n",
        "no_pad.add(Flatten())\n",
        "no_pad.add(Dense(64, activation='sigmoid'))\n",
        "no_pad.add(Dense(num_classes, activation='softmax'))\n",
        "#compile\n",
        "no_pad.compile(loss='categorical_crossentropy', optimizer='adam', metrics=['accuracy'])\n",
        "\n",
        "#model\n",
        "batch_size = 50\n",
        "epochs = 30\n",
        "\n",
        "no_pad.fit(X_train, y_train,\n",
        "          batch_size=batch_size,\n",
        "          epochs=epochs,\n",
        "          validation_data=(X_test, y_test),verbose=0)\n",
        "\n",
        "#results\n",
        "train_scores =no_pad.evaluate(X_train, y_train, verbose=0)\n",
        "test_scores = no_pad.evaluate(X_test, y_test, verbose=0)\n",
        "print(\"Train loss:\", train_scores[0])\n",
        "print(\"Train accuracy:\", train_scores[1])\n",
        "print(\"Test loss:\", test_scores[0])\n",
        "print(\"Test accuracy:\", test_scores[1])\n"
      ],
      "metadata": {
        "colab": {
          "base_uri": "https://localhost:8080/"
        },
        "id": "j_x5Y6JndsdL",
        "outputId": "6886db61-5daa-4f52-e0fa-7f4c14f52fce"
      },
      "execution_count": null,
      "outputs": [
        {
          "output_type": "stream",
          "name": "stdout",
          "text": [
            "Train loss: 1.0987038479264837\n",
            "Train accuracy: 0.3387534\n",
            "Test loss: 1.0991560145364851\n",
            "Test accuracy: 0.33754742\n"
          ]
        }
      ]
    },
    {
      "cell_type": "markdown",
      "source": [
        "changing activation function to sigmoid and removing padding, makes model underperforming"
      ],
      "metadata": {
        "id": "tscAdBzbjKCm"
      }
    },
    {
      "cell_type": "markdown",
      "source": [
        "## Just no padding"
      ],
      "metadata": {
        "id": "Xh2Xz6G3hdBh"
      }
    },
    {
      "cell_type": "code",
      "source": [
        "#no padding \n",
        "no_pad_1 = Sequential()\n",
        "no_pad_1.add(Conv2D(8, (3, 3),input_shape=(224, 224, 3), activation='relu'))\n",
        "no_pad_1.add(Conv2D(8, (3, 3), activation='relu'))\n",
        "no_pad_1.add(AveragePooling2D(pool_size=(2, 2)))\n",
        "no_pad_1.add(AveragePooling2D(pool_size=(2, 2)))\n",
        "no_pad_1.add(Flatten())\n",
        "no_pad_1.add(Dense(64, activation='relu'))\n",
        "no_pad_1.add(Dense(num_classes, activation='softmax'))\n",
        "#compile\n",
        "no_pad_1.compile(loss='categorical_crossentropy', optimizer='adam', metrics=['accuracy'])\n",
        "\n",
        "#model\n",
        "batch_size = 50\n",
        "epochs = 30\n",
        "\n",
        "no_pad_1.fit(X_train, y_train,\n",
        "          batch_size=batch_size,\n",
        "          epochs=epochs,\n",
        "          validation_data=(X_test, y_test),verbose=0)\n",
        "\n",
        "#results\n",
        "train_scores =no_pad_1.evaluate(X_train, y_train, verbose=0)\n",
        "test_scores = no_pad_1.evaluate(X_test, y_test, verbose=0)\n",
        "print(\"Train loss:\", train_scores[0])\n",
        "print(\"Train accuracy:\", train_scores[1])\n",
        "print(\"Test loss:\", test_scores[0])\n",
        "print(\"Test accuracy:\", test_scores[1])"
      ],
      "metadata": {
        "colab": {
          "base_uri": "https://localhost:8080/"
        },
        "id": "UgCkmFINhkL0",
        "outputId": "4800eda0-6e3c-495d-ffb8-e23e96dcfe23"
      },
      "execution_count": null,
      "outputs": [
        {
          "output_type": "stream",
          "name": "stdout",
          "text": [
            "Train loss: 0.015492045588104866\n",
            "Train accuracy: 0.997832\n",
            "Test loss: 1.4533984086908371\n",
            "Test accuracy: 0.7206068\n"
          ]
        }
      ]
    },
    {
      "cell_type": "markdown",
      "source": [
        "from the above iteration , keeping the activation function relu is important , and we have added 2 avg pooling  layer , again we see only very slight increase in test accuracy from 0.71 to 0.72"
      ],
      "metadata": {
        "id": "s_GLlvSujWqJ"
      }
    },
    {
      "cell_type": "markdown",
      "metadata": {
        "id": "bBpiTxXI24dj"
      },
      "source": [
        "##Summary \n",
        "changing size and number of filters, \n",
        "removing padding, changing activation and optimizer function , didnt help much , but repalcing maximum pooling layer with average ppoling layer helps to reduce overfitting slightly, so at this stage , \n",
        "we still  have very complex model \n",
        "train accuracy= 0.99 and test accuracy = 0.72 ,"
      ]
    },
    {
      "cell_type": "code",
      "source": [],
      "metadata": {
        "id": "ABNJ7daNerTA"
      },
      "execution_count": null,
      "outputs": []
    },
    {
      "cell_type": "markdown",
      "source": [
        "# Batch normalization"
      ],
      "metadata": {
        "id": "1NqPmTWVm5y7"
      }
    },
    {
      "cell_type": "code",
      "source": [],
      "metadata": {
        "id": "jt_HW8DblTGs"
      },
      "execution_count": null,
      "outputs": []
    },
    {
      "cell_type": "code",
      "source": [
        "#Batch normalization \n",
        "batch_normal = Sequential()\n",
        "batch_normal.add(Conv2D(8, (3, 3),input_shape=(224, 224, 3), activation='relu'))\n",
        "batch_normal.add(BatchNormalization())\n",
        "batch_normal.add(Conv2D(8, (3, 3), activation='relu'))\n",
        "batch_normal.add(BatchNormalization())\n",
        "batch_normal.add(AveragePooling2D(pool_size=(2, 2)))\n",
        "batch_normal.add(AveragePooling2D(pool_size=(2, 2)))\n",
        "batch_normal.add(Flatten())\n",
        "batch_normal.add(Dense(64, activation='relu'))\n",
        "batch_normal.add(BatchNormalization())\n",
        "batch_normal.add(Dense(num_classes, activation='softmax'))\n",
        "#compile\n",
        "batch_normal.compile(loss='categorical_crossentropy', optimizer='adam', metrics=['accuracy'])\n",
        "\n",
        "#model\n",
        "batch_size = 50\n",
        "epochs = 30\n",
        "\n",
        "batch_normal.fit(X_train, y_train,\n",
        "          batch_size=batch_size,\n",
        "          epochs=epochs,\n",
        "          validation_data=(X_test, y_test),verbose=0)\n",
        "\n",
        "#results\n",
        "train_scores =batch_normal.evaluate(X_train, y_train, verbose=0)\n",
        "test_scores = batch_normal.evaluate(X_test, y_test, verbose=0)\n",
        "print(\"Train loss:\", train_scores[0])\n",
        "print(\"Train accuracy:\", train_scores[1])\n",
        "print(\"Test loss:\", test_scores[0])\n",
        "print(\"Test accuracy:\", test_scores[1])"
      ],
      "metadata": {
        "colab": {
          "base_uri": "https://localhost:8080/"
        },
        "id": "rhOSiq-_lTDc",
        "outputId": "d1931f04-f0c4-4364-f10b-4d6886fea416"
      },
      "execution_count": null,
      "outputs": [
        {
          "output_type": "stream",
          "name": "stderr",
          "text": [
            "WARNING:tensorflow:From /usr/local/lib/python3.9/dist-packages/keras/layers/normalization/batch_normalization.py:561: _colocate_with (from tensorflow.python.framework.ops) is deprecated and will be removed in a future version.\n",
            "Instructions for updating:\n",
            "Colocations handled automatically by placer.\n",
            "`Model.state_updates` will be removed in a future version. This property should not be used in TensorFlow 2.0, as `updates` are applied automatically.\n"
          ]
        },
        {
          "output_type": "stream",
          "name": "stdout",
          "text": [
            "Train loss: 0.02960330199016142\n",
            "Train accuracy: 0.99458\n",
            "Test loss: 1.1112488622761858\n",
            "Test accuracy: 0.7307206\n"
          ]
        }
      ]
    },
    {
      "cell_type": "markdown",
      "source": [
        "Batching helps in slight increase of test accuracy , with alsight reduction in test loss"
      ],
      "metadata": {
        "id": "daf6H2DxvFEl"
      }
    },
    {
      "cell_type": "markdown",
      "source": [
        "# Regularization"
      ],
      "metadata": {
        "id": "Qq8UUYDAm_Ri"
      }
    },
    {
      "cell_type": "code",
      "source": [
        "\n",
        "###regular\n",
        "regular = Sequential()\n",
        "regular.add(Conv2D(8, (3, 3),input_shape=(224, 224, 3), activation='relu'))\n",
        "regular.add(Dropout(0.50))\n",
        "regular.add(Conv2D(8, (3, 3), activation='relu'))\n",
        "regular.add(Dropout(0.25))\n",
        "regular.add(BatchNormalization())\n",
        "regular.add(Dropout(0.50))\n",
        "regular.add(AveragePooling2D(pool_size=(2, 2)))\n",
        "regular.add(GlobalAveragePooling2D())\n",
        "regular.add(Flatten())\n",
        "regular.add(Dense(64, activation='relu'))\n",
        "regular.add(Dense(num_classes, activation='softmax'))\n",
        "#compile\n",
        "regular.compile(loss='categorical_crossentropy', optimizer='adam', metrics=['accuracy'])\n",
        "\n",
        "#model\n",
        "batch_size = 50\n",
        "epochs = 25\n",
        "\n",
        "regular.fit(X_train, y_train,\n",
        "          batch_size=batch_size,\n",
        "          epochs=epochs,\n",
        "          validation_data=(X_test, y_test),verbose=0)\n",
        "\n",
        "#results\n",
        "train_scores =regular.evaluate(X_train, y_train, verbose=0)\n",
        "test_scores = regular.evaluate(X_test, y_test, verbose=0)\n",
        "print(\"Train loss:\", train_scores[0])\n",
        "print(\"Train accuracy:\", train_scores[1])\n",
        "print(\"Test loss:\", test_scores[0])\n",
        "print(\"Test accuracy:\", test_scores[1])"
      ],
      "metadata": {
        "colab": {
          "base_uri": "https://localhost:8080/"
        },
        "id": "YMC_8ZkQnDPL",
        "outputId": "e2c8c870-f83b-4f78-da93-2852a84b3bc0"
      },
      "execution_count": null,
      "outputs": [
        {
          "output_type": "stream",
          "name": "stdout",
          "text": [
            "Train loss: 0.7982878721826445\n",
            "Train accuracy: 0.6140921\n",
            "Test loss: 0.7993459637487582\n",
            "Test accuracy: 0.6257901\n"
          ]
        }
      ]
    },
    {
      "cell_type": "code",
      "source": [],
      "metadata": {
        "id": "pDVXcyNLnC1u"
      },
      "execution_count": null,
      "outputs": []
    },
    {
      "cell_type": "markdown",
      "metadata": {
        "id": "ZgM0BBKekcVI"
      },
      "source": [
        "## Batch normalization "
      ]
    },
    {
      "cell_type": "code",
      "execution_count": null,
      "metadata": {
        "id": "Q6KSJ98In68b"
      },
      "outputs": [],
      "source": []
    },
    {
      "cell_type": "markdown",
      "metadata": {
        "id": "AV5yD9-Ln8WE"
      },
      "source": [
        "##Regularization \n",
        "adding dropout\n"
      ]
    },
    {
      "cell_type": "code",
      "execution_count": null,
      "metadata": {
        "id": "iL2aVad4s5B5"
      },
      "outputs": [],
      "source": []
    },
    {
      "cell_type": "markdown",
      "metadata": {
        "id": "7VK-FPfGz3Xc"
      },
      "source": [
        "## DATA AUGMENTATION"
      ]
    },
    {
      "cell_type": "code",
      "execution_count": 14,
      "metadata": {
        "colab": {
          "base_uri": "https://localhost:8080/"
        },
        "id": "m0arPViAs4_J",
        "outputId": "8bd46083-1963-4555-d78c-1361a7111b80"
      },
      "outputs": [
        {
          "output_type": "stream",
          "name": "stderr",
          "text": [
            "WARNING:tensorflow:From /usr/local/lib/python3.9/dist-packages/keras/layers/normalization/batch_normalization.py:561: _colocate_with (from tensorflow.python.framework.ops) is deprecated and will be removed in a future version.\n",
            "Instructions for updating:\n",
            "Colocations handled automatically by placer.\n",
            "The `lr` argument is deprecated, use `learning_rate` instead.\n",
            "`Model.state_updates` will be removed in a future version. This property should not be used in TensorFlow 2.0, as `updates` are applied automatically.\n"
          ]
        }
      ],
      "source": [
        "from keras.preprocessing.image import ImageDataGenerator\n",
        "\n",
        "datagen = ImageDataGenerator(\n",
        "        rotation_range=20,\n",
        "        width_shift_range=0.1,\n",
        "        height_shift_range=0.1,\n",
        "        shear_range=0.2,\n",
        "        zoom_range=0.2,\n",
        "        horizontal_flip=True,\n",
        "        fill_mode='nearest')\n",
        "\n",
        "model_hyp4 = Sequential()\n",
        "model_hyp4.add(Conv2D(16, (3, 3), padding='same', input_shape=(224, 224, 3), activation='relu'))\n",
        "model_hyp4.add(LeakyReLU(alpha=0.1))\n",
        "model_hyp4.add(BatchNormalization())\n",
        "model_hyp4.add(Conv2D(16, (3, 3), activation='relu'))\n",
        "model_hyp4.add(LeakyReLU(alpha=0.1))\n",
        "model_hyp4.add(BatchNormalization())\n",
        "model_hyp4.add(MaxPooling2D(pool_size=(2, 2)))\n",
        "model_hyp4.add(Flatten())\n",
        "model_hyp4.add(Dense(64, activation='relu'))\n",
        "model_hyp4.add(BatchNormalization())\n",
        "model_hyp4.add(Dropout(0.5))\n",
        "model_hyp4.add(Dense(num_classes, activation='softmax'))\n",
        "\n",
        "#compiling model\n",
        "from keras.optimizers import SGD\n",
        "opt = SGD(lr=0.001, momentum=0.9)\n",
        "model_hyp4.compile(loss='categorical_crossentropy', optimizer=opt, metrics=['accuracy'])\n",
        "\n",
        "#fitting model\n",
        "batch_size = 50\n",
        "epochs = 25\n",
        "\n",
        "CNN= model_hyp4.fit(datagen.flow(X_train, y_train, batch_size=batch_size), \n",
        "                steps_per_epoch=len(X_train) / batch_size, \n",
        "                epochs=epochs, \n",
        "                validation_data=(X_test, y_test),\n",
        "                verbose=0)"
      ]
    },
    {
      "cell_type": "code",
      "execution_count": 15,
      "metadata": {
        "id": "MH6J0nfOs48Z",
        "colab": {
          "base_uri": "https://localhost:8080/"
        },
        "outputId": "fa51cd3f-dab0-4b72-f0d4-708d304fc6b7"
      },
      "outputs": [
        {
          "output_type": "stream",
          "name": "stdout",
          "text": [
            "Train loss: 0.9493715003577028\n",
            "Train accuracy: 0.57506776\n",
            "Test loss: 0.9819148599573996\n",
            "Test accuracy: 0.5436157\n"
          ]
        }
      ],
      "source": [
        "#printing train and test accuracy\n",
        "train_scores = model_hyp4.evaluate(X_train, y_train, verbose=0)\n",
        "test_scores = model_hyp4.evaluate(X_test, y_test, verbose=0)\n",
        "\n",
        "print(\"Train loss:\", train_scores[0])\n",
        "print(\"Train accuracy:\", train_scores[1])\n",
        "print(\"Test loss:\", test_scores[0])\n",
        "print(\"Test accuracy:\", test_scores[1])"
      ]
    },
    {
      "cell_type": "code",
      "execution_count": 16,
      "metadata": {
        "colab": {
          "base_uri": "https://localhost:8080/"
        },
        "id": "0lE83eXas45f",
        "outputId": "98e6935f-3147-49f6-c24a-69a8c92c5c31"
      },
      "outputs": [
        {
          "output_type": "stream",
          "name": "stdout",
          "text": [
            "Model: \"sequential\"\n",
            "_________________________________________________________________\n",
            " Layer (type)                Output Shape              Param #   \n",
            "=================================================================\n",
            " conv2d (Conv2D)             (None, 224, 224, 16)      448       \n",
            "                                                                 \n",
            " leaky_re_lu (LeakyReLU)     (None, 224, 224, 16)      0         \n",
            "                                                                 \n",
            " batch_normalization (BatchN  (None, 224, 224, 16)     64        \n",
            " ormalization)                                                   \n",
            "                                                                 \n",
            " conv2d_1 (Conv2D)           (None, 222, 222, 16)      2320      \n",
            "                                                                 \n",
            " leaky_re_lu_1 (LeakyReLU)   (None, 222, 222, 16)      0         \n",
            "                                                                 \n",
            " batch_normalization_1 (Batc  (None, 222, 222, 16)     64        \n",
            " hNormalization)                                                 \n",
            "                                                                 \n",
            " max_pooling2d (MaxPooling2D  (None, 111, 111, 16)     0         \n",
            " )                                                               \n",
            "                                                                 \n",
            " flatten (Flatten)           (None, 197136)            0         \n",
            "                                                                 \n",
            " dense (Dense)               (None, 64)                12616768  \n",
            "                                                                 \n",
            " batch_normalization_2 (Batc  (None, 64)               256       \n",
            " hNormalization)                                                 \n",
            "                                                                 \n",
            " dropout (Dropout)           (None, 64)                0         \n",
            "                                                                 \n",
            " dense_1 (Dense)             (None, 3)                 195       \n",
            "                                                                 \n",
            "=================================================================\n",
            "Total params: 12,620,115\n",
            "Trainable params: 12,619,923\n",
            "Non-trainable params: 192\n",
            "_________________________________________________________________\n"
          ]
        }
      ],
      "source": [
        "model_hyp4.summary()"
      ]
    },
    {
      "cell_type": "markdown",
      "metadata": {
        "id": "DEckTmXCFwkq"
      },
      "source": [
        "Da ta augmentationa architecture:\n",
        "\n",
        "ImageDataGenerator:\n",
        "This is an instance of the Keras ImageDataGenerator class which generates augmented images for training the model. Augmentation techniques such as rotation, shifting, shearing, zooming and flipping are used to create new training images and to reduce overfitting of the model. These augmented images are passed to the model during training.\n",
        "\n",
        "Conv2D:\n",
        "This is the first convolutional layer of the model which contains 16 filters of size (3, 3). The padding is set to 'same' which means the output size of the layer is the same as the input size. The input shape of the layer is (224, 224, 3) which means it accepts input images of size 224x224 with 3 color channels. The activation function used in this layer is the Rectified Linear Unit (ReLU).\n",
        "\n",
        "LeakyReLU:\n",
        "This is an activation function that allows a small gradient when the unit is not active. It helps to avoid the dying ReLU problem.\n",
        "\n",
        "BatchNormalization:\n",
        "This is a technique used to improve the training of deep neural networks. It normalizes the activations of the previous layer at each batch during training, to reduce the internal covariate shift.\n",
        "\n",
        "Conv2D:\n",
        "This is the second convolutional layer of the model which also contains 16 filters of size (3, 3). The activation function used in this layer is also the LeakyReLU.\n",
        "\n",
        "MaxPooling2D:\n",
        "This is a pooling layer that downsamples the output of the previous layer. It selects the maximum value from each non-overlapping 2x2 block of the previous layer's output, reducing the dimensionality of the output.\n",
        "\n",
        "Flatten:\n",
        "This layer flattens the output of the previous layer into a 1D array, which is then passed to a fully connected layer.\n",
        "\n",
        "Dense:\n",
        "This is a fully connected layer with 64 units and a ReLU activation function.\n",
        "\n",
        "BatchNormalization:\n",
        "Another Batch Normalization layer is added after the first dense layer.\n",
        "\n",
        "Dropout:\n",
        "This is a regularization technique used to prevent overfitting. It randomly sets a fraction of the input units to 0 during training, which forces the network to learn more robust features.\n",
        "\n",
        "Dense:\n",
        "This is the final layer of the model with a softmax activation function. It contains the same number of units as the number of classes in the classification problem, and outputs a probability distribution over the classes for each input image.\n",
        "\n",
        "Overall, this model consists of two convolutional layers followed by a max pooling layer, a fully connected layer, and a final output layer. The model has also been regularized with Batch Normalization and Dropout layers to reduce overfitting.\n",
        "\n",
        "\n",
        "\n",
        "\n",
        "\n"
      ]
    },
    {
      "cell_type": "code",
      "execution_count": 18,
      "metadata": {
        "id": "PfYSLecjHQNz",
        "colab": {
          "base_uri": "https://localhost:8080/"
        },
        "outputId": "2c00a9d0-ec47-415e-f0b2-6003c6c64e1c"
      },
      "outputs": [
        {
          "output_type": "stream",
          "name": "stderr",
          "text": [
            "`Model.state_updates` will be removed in a future version. This property should not be used in TensorFlow 2.0, as `updates` are applied automatically.\n"
          ]
        },
        {
          "output_type": "execute_result",
          "data": {
            "text/plain": [
              "(1, 3)"
            ]
          },
          "metadata": {},
          "execution_count": 18
        }
      ],
      "source": [
        "output = model_hyp4.predict(np.expand_dims(X[0], axis=0))\n",
        "output.shape"
      ]
    },
    {
      "cell_type": "code",
      "execution_count": 22,
      "metadata": {
        "id": "5KgQ_k_eLhrG",
        "colab": {
          "base_uri": "https://localhost:8080/"
        },
        "outputId": "e4ba0b54-4906-406a-8def-f01462282237"
      },
      "outputs": [
        {
          "output_type": "execute_result",
          "data": {
            "text/plain": [
              "(2636, 3)"
            ]
          },
          "metadata": {},
          "execution_count": 22
        }
      ],
      "source": [
        "output = model_hyp4.predict(X)\n",
        "output.shape"
      ]
    },
    {
      "cell_type": "code",
      "source": [
        "y_cat  = to_categorical(y, num_classes)"
      ],
      "metadata": {
        "id": "5EszbHMELbta"
      },
      "execution_count": 23,
      "outputs": []
    },
    {
      "cell_type": "code",
      "source": [
        "X_train1, X_test1, y_train1, y_test1 = train_test_split(output, y_cat, test_size=0.25)\n",
        "X_train1.shape"
      ],
      "metadata": {
        "colab": {
          "base_uri": "https://localhost:8080/"
        },
        "id": "XZRG1Sq-LGa9",
        "outputId": "eb2a12b1-0df0-4c8f-c678-55eba0a4f6fc"
      },
      "execution_count": 28,
      "outputs": [
        {
          "output_type": "execute_result",
          "data": {
            "text/plain": [
              "(1977, 3)"
            ]
          },
          "metadata": {},
          "execution_count": 28
        }
      ]
    },
    {
      "cell_type": "code",
      "source": [
        "modelontop = Sequential()\n",
        "modelontop.add(Dense(512, input_dim=3, activation='relu'))\n",
        "modelontop.add(Dropout(0.25))\n",
        "modelontop.add(Dense(128, activation='relu'))\n",
        "modelontop.add(Dropout(0.25))\n",
        "modelontop.add(Dense(64, activation='relu'))\n",
        "modelontop.add(Dropout(0.25))\n",
        "modelontop.add(Dense(3, activation='softmax'))\n",
        "modelontop.compile(loss='categorical_crossentropy', optimizer='adam', metrics=['accuracy'])\n",
        "modelontop.summary()"
      ],
      "metadata": {
        "colab": {
          "base_uri": "https://localhost:8080/"
        },
        "id": "qhRBIj88LnzD",
        "outputId": "8550a698-2f3b-4183-a710-73808e4f9920"
      },
      "execution_count": 31,
      "outputs": [
        {
          "output_type": "stream",
          "name": "stdout",
          "text": [
            "Model: \"sequential_4\"\n",
            "_________________________________________________________________\n",
            " Layer (type)                Output Shape              Param #   \n",
            "=================================================================\n",
            " dense_11 (Dense)            (None, 512)               2048      \n",
            "                                                                 \n",
            " dropout_7 (Dropout)         (None, 512)               0         \n",
            "                                                                 \n",
            " dense_12 (Dense)            (None, 128)               65664     \n",
            "                                                                 \n",
            " dropout_8 (Dropout)         (None, 128)               0         \n",
            "                                                                 \n",
            " dense_13 (Dense)            (None, 64)                8256      \n",
            "                                                                 \n",
            " dropout_9 (Dropout)         (None, 64)                0         \n",
            "                                                                 \n",
            " dense_14 (Dense)            (None, 3)                 195       \n",
            "                                                                 \n",
            "=================================================================\n",
            "Total params: 76,163\n",
            "Trainable params: 76,163\n",
            "Non-trainable params: 0\n",
            "_________________________________________________________________\n"
          ]
        }
      ]
    },
    {
      "cell_type": "code",
      "source": [
        "batch_size = 128\n",
        "epochs     = 80\n",
        "\n",
        "hist = modelontop.fit(X_train1, y_train1,\n",
        "          batch_size=batch_size,\n",
        "          epochs=epochs,\n",
        "          validation_data=(X_test1, y_test1),\n",
        "          verbose=0)"
      ],
      "metadata": {
        "colab": {
          "base_uri": "https://localhost:8080/"
        },
        "id": "YolzmlMAMZDr",
        "outputId": "a93aacb0-cc0c-4c15-85dc-eead392a8164"
      },
      "execution_count": 32,
      "outputs": [
        {
          "output_type": "stream",
          "name": "stderr",
          "text": [
            "`Model.state_updates` will be removed in a future version. This property should not be used in TensorFlow 2.0, as `updates` are applied automatically.\n"
          ]
        }
      ]
    },
    {
      "cell_type": "code",
      "source": [
        "plt.plot(hist.history['accuracy'])\n",
        "plt.plot(hist.history['val_accuracy'])"
      ],
      "metadata": {
        "colab": {
          "base_uri": "https://localhost:8080/",
          "height": 282
        },
        "id": "n2YUnr20NRV-",
        "outputId": "15837a0a-7921-4b5d-90f5-f55df87fc384"
      },
      "execution_count": 33,
      "outputs": [
        {
          "output_type": "execute_result",
          "data": {
            "text/plain": [
              "[<matplotlib.lines.Line2D at 0x7f31b9af3be0>]"
            ]
          },
          "metadata": {},
          "execution_count": 33
        },
        {
          "output_type": "display_data",
          "data": {
            "text/plain": [
              "<Figure size 432x288 with 1 Axes>"
            ],
            "image/png": "[encoded data removed]"
          },
          "metadata": {
            "needs_background": "light"
          }
        }
      ]
    },
    {
      "cell_type": "code",
      "source": [
        "model_hyp4.output"
      ],
      "metadata": {
        "colab": {
          "base_uri": "https://localhost:8080/"
        },
        "id": "72rb248jN67T",
        "outputId": "7c3818df-29c1-4709-c6ed-a77aa5caf1bc"
      },
      "execution_count": 36,
      "outputs": [
        {
          "output_type": "execute_result",
          "data": {
            "text/plain": [
              "<tf.Tensor 'dense_1/Softmax:0' shape=(None, 3) dtype=float32>"
            ]
          },
          "metadata": {},
          "execution_count": 36
        }
      ]
    },
    {
      "cell_type": "code",
      "source": [
        "b = model_hyp4.output\n",
        "b = GlobalAveragePooling2D()(b)\n",
        "b = Dense(1024, activation='relu')(b)\n",
        "b = Dropout(0.25)(b)\n",
        "predictions = Dense(3, activation='softmax')(b)\n",
        "\n",
        "fullmodel = Model(inputs=model_hyp4.input, outputs=predictions)"
      ],
      "metadata": {
        "colab": {
          "base_uri": "https://localhost:8080/",
          "height": 380
        },
        "id": "NaVMvSLYNfm5",
        "outputId": "3497db44-43f6-49a6-85c6-e62a3114cd73"
      },
      "execution_count": 35,
      "outputs": [
        {
          "output_type": "error",
          "ename": "ValueError",
          "evalue": "ignored",
          "traceback": [
            "\u001b[0;31m---------------------------------------------------------------------------\u001b[0m",
            "\u001b[0;31mValueError\u001b[0m                                Traceback (most recent call last)",
            "\u001b[0;32m<ipython-input-35-58bee2ee74e4>\u001b[0m in \u001b[0;36m<module>\u001b[0;34m\u001b[0m\n\u001b[1;32m      1\u001b[0m \u001b[0mb\u001b[0m \u001b[0;34m=\u001b[0m \u001b[0mmodel_hyp4\u001b[0m\u001b[0;34m.\u001b[0m\u001b[0moutput\u001b[0m\u001b[0;34m\u001b[0m\u001b[0;34m\u001b[0m\u001b[0m\n\u001b[0;32m----> 2\u001b[0;31m \u001b[0mb\u001b[0m \u001b[0;34m=\u001b[0m \u001b[0mGlobalAveragePooling2D\u001b[0m\u001b[0;34m(\u001b[0m\u001b[0;34m)\u001b[0m\u001b[0;34m(\u001b[0m\u001b[0mb\u001b[0m\u001b[0;34m)\u001b[0m\u001b[0;34m\u001b[0m\u001b[0;34m\u001b[0m\u001b[0m\n\u001b[0m\u001b[1;32m      3\u001b[0m \u001b[0mb\u001b[0m \u001b[0;34m=\u001b[0m \u001b[0mDense\u001b[0m\u001b[0;34m(\u001b[0m\u001b[0;36m1024\u001b[0m\u001b[0;34m,\u001b[0m \u001b[0mactivation\u001b[0m\u001b[0;34m=\u001b[0m\u001b[0;34m'relu'\u001b[0m\u001b[0;34m)\u001b[0m\u001b[0;34m(\u001b[0m\u001b[0mb\u001b[0m\u001b[0;34m)\u001b[0m\u001b[0;34m\u001b[0m\u001b[0;34m\u001b[0m\u001b[0m\n\u001b[1;32m      4\u001b[0m \u001b[0mb\u001b[0m \u001b[0;34m=\u001b[0m \u001b[0mDropout\u001b[0m\u001b[0;34m(\u001b[0m\u001b[0;36m0.25\u001b[0m\u001b[0;34m)\u001b[0m\u001b[0;34m(\u001b[0m\u001b[0mb\u001b[0m\u001b[0;34m)\u001b[0m\u001b[0;34m\u001b[0m\u001b[0;34m\u001b[0m\u001b[0m\n\u001b[1;32m      5\u001b[0m \u001b[0mpredictions\u001b[0m \u001b[0;34m=\u001b[0m \u001b[0mDense\u001b[0m\u001b[0;34m(\u001b[0m\u001b[0;36m3\u001b[0m\u001b[0;34m,\u001b[0m \u001b[0mactivation\u001b[0m\u001b[0;34m=\u001b[0m\u001b[0;34m'softmax'\u001b[0m\u001b[0;34m)\u001b[0m\u001b[0;34m(\u001b[0m\u001b[0mb\u001b[0m\u001b[0;34m)\u001b[0m\u001b[0;34m\u001b[0m\u001b[0;34m\u001b[0m\u001b[0m\n",
            "\u001b[0;32m/usr/local/lib/python3.9/dist-packages/keras/engine/base_layer_v1.py\u001b[0m in \u001b[0;36m__call__\u001b[0;34m(self, *args, **kwargs)\u001b[0m\n\u001b[1;32m    805\u001b[0m                 \u001b[0;31m# build the corresponding TF subgraph inside\u001b[0m\u001b[0;34m\u001b[0m\u001b[0;34m\u001b[0m\u001b[0m\n\u001b[1;32m    806\u001b[0m                 \u001b[0;31m# `backend.get_graph()`\u001b[0m\u001b[0;34m\u001b[0m\u001b[0;34m\u001b[0m\u001b[0m\n\u001b[0;32m--> 807\u001b[0;31m                 input_spec.assert_input_compatibility(\n\u001b[0m\u001b[1;32m    808\u001b[0m                     \u001b[0mself\u001b[0m\u001b[0;34m.\u001b[0m\u001b[0minput_spec\u001b[0m\u001b[0;34m,\u001b[0m \u001b[0minputs\u001b[0m\u001b[0;34m,\u001b[0m \u001b[0mself\u001b[0m\u001b[0;34m.\u001b[0m\u001b[0mname\u001b[0m\u001b[0;34m\u001b[0m\u001b[0;34m\u001b[0m\u001b[0m\n\u001b[1;32m    809\u001b[0m                 )\n",
            "\u001b[0;32m/usr/local/lib/python3.9/dist-packages/keras/engine/input_spec.py\u001b[0m in \u001b[0;36massert_input_compatibility\u001b[0;34m(input_spec, inputs, layer_name)\u001b[0m\n\u001b[1;32m    230\u001b[0m             \u001b[0mndim\u001b[0m \u001b[0;34m=\u001b[0m \u001b[0mshape\u001b[0m\u001b[0;34m.\u001b[0m\u001b[0mrank\u001b[0m\u001b[0;34m\u001b[0m\u001b[0;34m\u001b[0m\u001b[0m\n\u001b[1;32m    231\u001b[0m             \u001b[0;32mif\u001b[0m \u001b[0mndim\u001b[0m \u001b[0;34m!=\u001b[0m \u001b[0mspec\u001b[0m\u001b[0;34m.\u001b[0m\u001b[0mndim\u001b[0m\u001b[0;34m:\u001b[0m\u001b[0;34m\u001b[0m\u001b[0;34m\u001b[0m\u001b[0m\n\u001b[0;32m--> 232\u001b[0;31m                 raise ValueError(\n\u001b[0m\u001b[1;32m    233\u001b[0m                     \u001b[0;34mf'Input {input_index} of layer \"{layer_name}\" '\u001b[0m\u001b[0;34m\u001b[0m\u001b[0;34m\u001b[0m\u001b[0m\n\u001b[1;32m    234\u001b[0m                     \u001b[0;34m\"is incompatible with the layer: \"\u001b[0m\u001b[0;34m\u001b[0m\u001b[0;34m\u001b[0m\u001b[0m\n",
            "\u001b[0;31mValueError\u001b[0m: Input 0 of layer \"global_average_pooling2d\" is incompatible with the layer: expected ndim=4, found ndim=2. Full shape received: (None, 3)"
          ]
        }
      ]
    },
    {
      "cell_type": "markdown",
      "metadata": {
        "id": "Lt_DDXvGIEtY"
      },
      "source": [
        "## Model Interpretation\n"
      ]
    },
    {
      "cell_type": "markdown",
      "metadata": {
        "id": "ubHmgdKSFlgS"
      },
      "source": [
        "We can now start by taking a look at out network and what is has learned.\n",
        "\n",
        "First, we can take an example image and take a look how it activates the convolutional filters."
      ]
    },
    {
      "cell_type": "code",
      "execution_count": null,
      "metadata": {
        "id": "L4RGtytJIH8J"
      },
      "outputs": [],
      "source": [
        "plt.imshow(X_train[80])\n",
        "plt.show()"
      ]
    },
    {
      "cell_type": "code",
      "execution_count": null,
      "metadata": {
        "id": "lVZUzl8gIH5X"
      },
      "outputs": [],
      "source": []
    },
    {
      "cell_type": "markdown",
      "metadata": {
        "id": "4S7GmFSdG_63"
      },
      "source": [
        "\n",
        "We have the following convolutional layers available in our network:"
      ]
    },
    {
      "cell_type": "code",
      "execution_count": null,
      "metadata": {
        "id": "HKmYq2lYIHqt"
      },
      "outputs": [],
      "source": [
        "conv_layers = [layer.name for layer in model_hyp4.layers if layer.name.startswith('conv2d')]\n",
        "conv_layers"
      ]
    },
    {
      "cell_type": "markdown",
      "metadata": {
        "id": "S9nJe73TLSHW"
      },
      "source": [
        "The question is now how we can get access to activations of intermediate layers. For this, we'll define a custom Keras function."
      ]
    },
    {
      "cell_type": "code",
      "execution_count": null,
      "metadata": {
        "id": "DxZj80PaLT8B"
      },
      "outputs": [],
      "source": [
        "def get_layer_output(model_hyp4, layer_name):\n",
        "  return K.function(inputs=model_hyp4.inputs, outputs=[model_hyp4.get_layer(layer_name).output])"
      ]
    },
    {
      "cell_type": "markdown",
      "metadata": {
        "id": "P-YkQyZxLiVi"
      },
      "source": [
        "Next, for each convolutional layer, we get the activations, and then visualize them filter by filter:"
      ]
    },
    {
      "cell_type": "code",
      "execution_count": null,
      "metadata": {
        "id": "GDTKt7g7Lj-a"
      },
      "outputs": [],
      "source": []
    },
    {
      "cell_type": "code",
      "execution_count": null,
      "metadata": {
        "id": "X4Fg3JVZLkHZ"
      },
      "outputs": [],
      "source": [
        "test_instance = X_train[88]\n",
        "\n",
        "for layer_name in conv_layers:\n",
        "  num_filters     = model_hyp4.get_layer(layer_name).output_shape[-1]\n",
        "  get_activations = get_layer_output(model_hyp4, layer_name)\n",
        "  activations     = get_activations(np.expand_dims(test_instance, axis=0))[0][0]\n",
        "  rows_cols       = int(np.ceil(np.sqrt(num_filters)))\n",
        "  fig, ax = plt.subplots(rows_cols, rows_cols, figsize=(2 * rows_cols, 2 * rows_cols))\n",
        "  fig.suptitle(layer_name)\n",
        "  for filter_idx in range(num_filters):\n",
        "    ax[filter_idx // rows_cols][filter_idx % rows_cols].imshow(activations[:,:,filter_idx])\n",
        "  fig.tight_layout(rect=[0, 0.03, 1, 0.95])\n",
        "  plt.show()"
      ]
    },
    {
      "cell_type": "markdown",
      "metadata": {
        "id": "MCrV2eVLMQXY"
      },
      "source": [
        "explain the results here"
      ]
    },
    {
      "cell_type": "code",
      "execution_count": null,
      "metadata": {
        "id": "n4XCvVwBLkFr"
      },
      "outputs": [],
      "source": []
    },
    {
      "cell_type": "markdown",
      "metadata": {
        "id": "c5YhppTqMS9h"
      },
      "source": [
        "# Convolutional filters\n",
        "Next up, we'll take a look at the weights of the convolutional units. Here, we only visualize the weights for the conv2d_2 layer:"
      ]
    },
    {
      "cell_type": "code",
      "execution_count": null,
      "metadata": {
        "id": "O9KTMgpGLkDc"
      },
      "outputs": [],
      "source": [
        "# get_weights() outputs two tensors: the second one are the biases, which we won't show here\n",
        "\n",
        "model_hyp4.get_layer('conv2d_2').get_weights()[0].shape, model_hyp4.get_layer('conv2d_2').get_weights()[1].shape"
      ]
    },
    {
      "cell_type": "code",
      "execution_count": null,
      "metadata": {
        "id": "m1BrefcyMxga"
      },
      "outputs": [],
      "source": [
        "fig, ax = plt.subplots(8, 4, figsize=(8, 8))\n",
        "for i in range(model_hyp4.get_layer('conv2d_2').get_weights()[0].shape[2]):\n",
        "  ax[i // 4][i % 4].imshow(model_hyp4.get_layer('conv2d_2').get_weights()[0][:, :, i, 0], cmap='gray')\n",
        "fig.tight_layout()"
      ]
    },
    {
      "cell_type": "code",
      "execution_count": null,
      "metadata": {
        "id": "CbwJ6WrBMxdG"
      },
      "outputs": [],
      "source": []
    },
    {
      "cell_type": "code",
      "execution_count": null,
      "metadata": {
        "id": "01hBcIOEMxSZ"
      },
      "outputs": [],
      "source": [
        "fig, ax = plt.subplots(4, 4, figsize=(8, 8))\n",
        "for i in range(model_hyp4.get_layer('conv2d_2').get_weights()[0].shape[-1]):\n",
        "  weights = model_hyp4.get_layer('conv2d_2').get_weights()[0]\n",
        "  ax[i // 4][i % 4].imshow(\n",
        "    (weights[:, :, :, i] - np.min(weights)) / (np.max(weights) - np.min(weights))\n",
        "  )\n",
        "fig.tight_layout()"
      ]
    },
    {
      "cell_type": "markdown",
      "metadata": {
        "id": "eYCu-4HtOTEU"
      },
      "source": [
        "undestand interpretatiin"
      ]
    },
    {
      "cell_type": "markdown",
      "metadata": {
        "id": "UTLjqBnmOWz0"
      },
      "source": [
        "## GARAD CAM INTERPRETAION"
      ]
    },
    {
      "cell_type": "markdown",
      "metadata": {
        "id": "kkn2uzz3L9qE"
      },
      "source": [
        "just single class"
      ]
    },
    {
      "cell_type": "code",
      "execution_count": null,
      "metadata": {
        "id": "TZEHOvFtOgvz"
      },
      "outputs": [],
      "source": [
        "from tensorflow import keras\n",
        "\n",
        "# Load an example image and preprocess it\n",
        "img_path = 'Accident Images Analysis Dataset/Vehicles-in-Accidents/1/1.jpg'\n",
        "img = cv2.imread(img_path)\n",
        "img = cv2.resize(img, (224, 224), interpolation=cv2.INTER_AREA)\n",
        "img = np.expand_dims(img, axis=0)\n",
        "\n",
        "# Define the model\n",
        "model = model_hyp4\n",
        "\n",
        "# Define the class of interest\n",
        "class_index = 1\n",
        "\n",
        "# Compute the gradient of the class output with respect to the feature maps\n",
        "grad_model = keras.models.Model([model.inputs], [model.get_layer('conv2d_2').output, model.output])\n",
        "with tf.GradientTape() as tape:\n",
        "    conv_output, predictions = grad_model(img)\n",
        "    loss = predictions[:, class_index]\n",
        "\n",
        "output = conv_output[0]\n",
        "grads = tape.gradient(loss, conv_output)[0]\n",
        "weights = tf.reduce_mean(grads, axis=(0, 1))\n",
        "cam = np.ones(output.shape[0:2], dtype=np.float32)\n",
        "\n",
        "# Generate the heatmap\n",
        "for i, w in enumerate(weights):\n",
        "    cam += w * output[:, :, i]\n",
        "\n",
        "cam = cv2.resize(cam.numpy(), (224, 224))\n",
        "cam = np.maximum(cam, 0)\n",
        "heatmap = cam / np.max(cam)\n",
        "\n",
        "# Apply the heatmap to the original image\n",
        "heatmap = cv2.applyColorMap(np.uint8(255 * heatmap), cv2.COLORMAP_JET)\n",
        "hif = .8\n",
        "superimposed_img = heatmap * hif + img[0] * (1 - hif)\n",
        "cv2.imwrite(\"heatmap.jpg\", superimposed_img)"
      ]
    },
    {
      "cell_type": "code",
      "execution_count": null,
      "metadata": {
        "id": "IpmrhtKDOgk1"
      },
      "outputs": [],
      "source": [
        "from PIL import Image\n",
        "img = Image.open(\"heatmap.jpg\")\n",
        "img.show()"
      ]
    },
    {
      "cell_type": "code",
      "execution_count": null,
      "metadata": {
        "id": "6MqgFX6yuKS6"
      },
      "outputs": [],
      "source": [
        "from PIL import Image\n",
        "\n",
        "img_path = 'Accident Images Analysis Dataset/Vehicles-in-Accidents/1/100.jpg'\n",
        "\n",
        "# Open the image file\n",
        "img = Image.open(img_path)\n",
        "\n",
        "img = img.resize((800, 600))\n",
        "# Show the image\n",
        "img.show()\n"
      ]
    },
    {
      "cell_type": "markdown",
      "metadata": {
        "id": "N4k8Ag0JLRtm"
      },
      "source": [
        "# gradcam for all classes"
      ]
    },
    {
      "cell_type": "code",
      "execution_count": null,
      "metadata": {
        "id": "_7KO5rFeUt51"
      },
      "outputs": [],
      "source": [
        "import cv2\n",
        "import numpy as np\n",
        "import tensorflow as tf\n",
        "from tensorflow import keras\n",
        "\n",
        "# Load an example image and preprocess it\n",
        "img_path = 'Accident Images Analysis Dataset/Vehicles-in-Accidents/1/1.jpg'\n",
        "img = cv2.imread(img_path)\n",
        "img = cv2.resize(img, (224, 224), interpolation=cv2.INTER_AREA)\n",
        "img = np.expand_dims(img, axis=0)\n",
        "\n",
        "# Define the model\n",
        "model = model_hyp4\n",
        "\n",
        "# Define the classes of interest\n",
        "class_indices = [0, 1, 2]  # example classes of interest\n",
        "\n",
        "# Compute the gradients and generate heatmaps for each class\n",
        "heatmaps = []\n",
        "for class_index in class_indices:\n",
        "    # Compute the gradient of the class output with respect to the feature maps\n",
        "    grad_model = keras.models.Model([model.inputs], [model.get_layer('conv2d_2').output, model.output])\n",
        "    with tf.GradientTape() as tape:\n",
        "        conv_output, predictions = grad_model(img)\n",
        "        loss = predictions[:, class_index]\n",
        "\n",
        "    output = conv_output[0]\n",
        "    grads = tape.gradient(loss, conv_output)[0]\n",
        "    weights = tf.reduce_mean(grads, axis=(0, 1))\n",
        "    cam = np.ones(output.shape[0:2], dtype=np.float32)\n",
        "\n",
        "    # Generate the heatmap\n",
        "    for i, w in enumerate(weights):\n",
        "        cam += w * output[:, :, i]\n",
        "\n",
        "    cam = cv2.resize(cam.numpy(), (224, 224))\n",
        "    cam = np.maximum(cam, 0)\n",
        "    heatmap = cam / np.max(cam)\n",
        "    heatmaps.append(heatmap)\n",
        "\n",
        "# Apply the heatmap to the original image for each class\n",
        "for i, heatmap in enumerate(heatmaps):\n",
        "    heatmap = cv2.applyColorMap(np.uint8(255 * heatmap), cv2.COLORMAP_VIRIDIS)\n",
        "    hif = .8\n",
        "    superimposed_img = heatmap * hif + img[0] * (1 - hif)\n",
        "    cv2.imwrite(f\"heatmap_class_{class_indices[i]}.jpg\", superimposed_img)\n"
      ]
    },
    {
      "cell_type": "code",
      "execution_count": null,
      "metadata": {
        "id": "w7YlcYpRQd04"
      },
      "outputs": [],
      "source": [
        "import matplotlib.pyplot as plt\n",
        "\n",
        "# Display the heatmaps\n",
        "for i, heatmap in enumerate(heatmaps):\n",
        "    plt.imshow(heatmap, cmap='jet')\n",
        "    plt.title(f\"Heatmap for class {class_indices[i]}\")\n",
        "    plt.show()\n"
      ]
    },
    {
      "cell_type": "markdown",
      "metadata": {
        "id": "FQqUGp4zNm12"
      },
      "source": [
        "# shap"
      ]
    },
    {
      "cell_type": "code",
      "execution_count": null,
      "metadata": {
        "id": "7cmYC6eA8pwr"
      },
      "outputs": [],
      "source": []
    },
    {
      "cell_type": "code",
      "execution_count": null,
      "metadata": {
        "colab": {
          "base_uri": "https://localhost:8080/",
          "height": 436
        },
        "id": "sRaAg8W9Nki0",
        "outputId": "ea3970bf-69e2-40c4-f511-f7c86983e784"
      },
      "outputs": [
        {
          "output_type": "display_data",
          "data": {
            "text/plain": [
              "<Figure size 864x540 with 9 Axes>"
            ],
            "image/png": "[encoded data removed]"
          },
          "metadata": {
            "needs_background": "light"
          }
        }
      ],
      "source": [
        "# explain how the input to the 7th layer of the model explains the top two classes\n",
        "def map2layer(x, layer):\n",
        "    feed_dict = dict(zip([model.layers[0].input], [x.copy()]))\n",
        "    return K.get_session().run(model.layers[layer].input, feed_dict)\n",
        "\n",
        "indices = np.random.choice(X_train.shape[0], 100, replace=False)\n",
        "to_explain = X_train[np.random.choice(indices, 2, replace=False)].astype(int)\n",
        "\n",
        "# move this line outside of the `map2layer` function\n",
        "e = shap.GradientExplainer(\n",
        "    (model.layers[2].input, model.layers[-1].output),\n",
        "    map2layer(X_train[indices, :, :, :], 2),\n",
        "    local_smoothing=0 # std dev of smoothing noise\n",
        ")\n",
        "\n",
        "shap_values, indexes = e.shap_values(map2layer(to_explain, 2), ranked_outputs=3)\n",
        "\n",
        "# get the names for the classes\n",
        "class_names = {0:\"light\",1:\"heavy\",2:\"motor\"}\n",
        "index_names = np.vectorize(lambda x: class_names[x])(indexes)\n",
        "\n",
        "# plot the explanations\n",
        "shap.image_plot(shap_values, to_explain, index_names)"
      ]
    },
    {
      "cell_type": "code",
      "execution_count": null,
      "metadata": {
        "id": "CjG9NCyQNkgZ"
      },
      "outputs": [],
      "source": [
        "\n"
      ]
    },
    {
      "cell_type": "code",
      "execution_count": null,
      "metadata": {
        "id": "HNx-BRxBNkeA"
      },
      "outputs": [],
      "source": []
    },
    {
      "cell_type": "markdown",
      "metadata": {
        "id": "9W8vbpebpVx8"
      },
      "source": [
        "## Transfer learning"
      ]
    },
    {
      "cell_type": "code",
      "execution_count": null,
      "metadata": {
        "id": "xwbMOtJVNjeg"
      },
      "outputs": [],
      "source": []
    },
    {
      "cell_type": "code",
      "execution_count": null,
      "metadata": {
        "id": "PwiWdkj7UtvM"
      },
      "outputs": [],
      "source": [
        "example = image.load_img('Accident Images Analysis Dataset/Accident -Detection/2/1789.jpg')\n",
        "plt.imshow(example)\n",
        "plt.show()"
      ]
    },
    {
      "cell_type": "markdown",
      "metadata": {
        "id": "C1IN-SpWryvV"
      },
      "source": []
    },
    {
      "cell_type": "markdown",
      "metadata": {
        "id": "0udCj7JjsHd-"
      },
      "source": [
        "If you are using a pre-trained ResNetV2 model from Keras, you do not need to perform the image preprocessing steps in the prepare_images function to use the model for image classification. The ResNetV2 model in Keras already includes built-in preprocessing steps, which normalize the input images according to the preprocessing scheme used during training.\n",
        "\n",
        "The built-in preprocessing steps in Keras involve scaling the pixel values to the range of [-1, 1] and subtracting the mean RGB values of the ImageNet dataset. The ResNetV2 model in Keras expects input images to be in the range of [0, 255], so you will need to scale your input images accordingly."
      ]
    },
    {
      "cell_type": "code",
      "execution_count": null,
      "metadata": {
        "id": "VfQ00IpVZnhV"
      },
      "outputs": [],
      "source": [
        "basepath = 'Accident Images Analysis Dataset/'\n",
        "\n",
        "def prepare_images(path, num_classes, preprocessor, load_img_kwargs={}, ext='.jpg'):\n",
        "  X, y = [], []\n",
        "  for class_ in range(num_classes):\n",
        "    for img_path in iglob(path + str(class_ + 1) + '/' + '*' + ext):\n",
        "      img = image.load_img(img_path, **load_img_kwargs)\n",
        "      x = image.img_to_array(img)\n",
        "      x = preprocessor(x)\n",
        "      X.append(x)\n",
        "      y.append(class_)\n",
        "  return np.array(X), np.array(y)"
      ]
    },
    {
      "cell_type": "markdown",
      "metadata": {
        "id": "c9S6ihrvsVYj"
      },
      "source": [
        "image range van be from 0 to 255,, am setting iit for 224 ,224, is these RESNETV2 is trained  with input size 224x224\n",
        "\n",
        "Preprcosseing input requirements:\n",
        "Convert the color space: The input image is converted from RGB color space to BGR color space. This is because ResNetV2 was originally trained on images in BGR format, so the input images must be converted to this format before being fed into the model.\n",
        "\n",
        "Mean subtraction: The pixel values of the input image are subtracted by the mean RGB value of the ImageNet dataset. This is a common pre-processing step in computer vision applications that helps to center the pixel values around zero and improve the model's ability to learn useful features.\n",
        "\n",
        "Scaling: The pixel values of the input image are scaled by a factor of 1/255. This step ensures that the pixel values are within the range [0, 1], which is a common requirement for deep learning models.\n",
        "\n",
        "Standardization: The pixel values of the input image are standardized using channel-wise normalization. This involves subtracting the mean pixel value of each channel and dividing by the standard deviation of the channel. This step helps to reduce the impact of lighting and color variations in the input images."
      ]
    },
    {
      "cell_type": "code",
      "execution_count": null,
      "metadata": {
        "id": "3qLb618lZnbs"
      },
      "outputs": [],
      "source": [
        "X, y = prepare_images(basepath + 'Accident -Detection/', 2, resnet_v2.preprocess_input, load_img_kwargs={'target_size': (224, 224)})\n",
        "y_cat = to_categorical(y)\n",
        "\n",
        "len(X), len(y), np.unique(y)"
      ]
    },
    {
      "cell_type": "markdown",
      "metadata": {
        "id": "T6XKzBB5wQFq"
      },
      "source": [
        "loading pretraine dmodel rssnet_v2"
      ]
    },
    {
      "cell_type": "code",
      "execution_count": null,
      "metadata": {
        "id": "DpmeFMG_ZnKu"
      },
      "outputs": [],
      "source": [
        "\n",
        "from tensorflow.keras.applications import ResNet50V2\n",
        "model = ResNet50V2(weights='imagenet', include_top=True)\n",
        "model.output"
      ]
    },
    {
      "cell_type": "code",
      "execution_count": null,
      "metadata": {
        "id": "qgosM75dzJCU"
      },
      "outputs": [],
      "source": [
        "output = model.predict(np.expand_dims(X[0], axis=0))\n",
        "output.shape"
      ]
    },
    {
      "cell_type": "markdown",
      "metadata": {
        "id": "_3xDYJ4v0wb3"
      },
      "source": [
        "The pretrained model has been trained on 1000 classes, whereas we only need two classes here. The first way to solve this is to just regard our model as a feature extractor, and use the final 1000-long probability vector as features which can be used by another model. Let's try this out:"
      ]
    },
    {
      "cell_type": "code",
      "execution_count": null,
      "metadata": {
        "id": "kK5CKprJZt1n"
      },
      "outputs": [],
      "source": [
        "output = model.predict(X)\n",
        "output.shape"
      ]
    },
    {
      "cell_type": "code",
      "execution_count": null,
      "metadata": {
        "id": "QrMXnLNj0-It"
      },
      "outputs": [],
      "source": [
        "X_train, X_test, y_train, y_test = train_test_split(output, y_cat, test_size=0.25)"
      ]
    },
    {
      "cell_type": "markdown",
      "metadata": {
        "id": "dXNdRHvK19UM"
      },
      "source": [
        "Next, we set up our \"model on top\". We're going to create a simple fully connected stack here."
      ]
    },
    {
      "cell_type": "code",
      "execution_count": null,
      "metadata": {
        "id": "n27sr7YG09_S"
      },
      "outputs": [],
      "source": []
    },
    {
      "cell_type": "code",
      "execution_count": null,
      "metadata": {
        "id": "-8e_cP2z094y"
      },
      "outputs": [],
      "source": [
        "modelontop = Sequential()\n",
        "modelontop.add(Dense(40, input_dim=1000, activation='relu'))\n",
        "modelontop.add(Dropout(0.50))\n",
        "modelontop.add(Dense(64, activation='relu'))\n",
        "modelontop.add(BatchNormalization())\n",
        "modelontop.add(Dropout(0.5))\n",
        "modelontop.add(Dense(20, activation='relu'))\n",
        "modelontop.add(Dropout(0.25))\n",
        "modelontop.add(Dense(2, activation='softmax'))\n",
        "modelontop.compile(loss='categorical_crossentropy', optimizer='adam', metrics=['accuracy'])\n",
        "modelontop.summary()\n",
        "\n",
        "\n"
      ]
    },
    {
      "cell_type": "markdown",
      "metadata": {
        "id": "rgCd-x8C2FqA"
      },
      "source": [
        "Let's train this network for 30 epochs:"
      ]
    },
    {
      "cell_type": "code",
      "execution_count": null,
      "metadata": {
        "id": "qNdooNTJ14oN"
      },
      "outputs": [],
      "source": [
        "batch_size = 50\n",
        "epochs     = 30\n",
        "\n",
        "hist = modelontop.fit(X_train, y_train,\n",
        "          batch_size=batch_size,\n",
        "          epochs=epochs,\n",
        "          validation_data=(X_test, y_test),\n",
        "          verbose=0)"
      ]
    },
    {
      "cell_type": "code",
      "execution_count": null,
      "metadata": {
        "id": "WV_u30zZ14iz"
      },
      "outputs": [],
      "source": [
        "plt.plot(hist.history['accuracy'])\n",
        "plt.plot(hist.history['val_accuracy'])"
      ]
    },
    {
      "cell_type": "code",
      "execution_count": null,
      "metadata": {
        "id": "0ESP8Mhi14g0"
      },
      "outputs": [],
      "source": [
        "train_scores = modelontop.evaluate(X_train, y_train, verbose=0)\n",
        "test_scores = modelontop.evaluate(X_test, y_test, verbose=0)\n",
        "\n",
        "print(\"Train loss:\", train_scores[0])\n",
        "print(\"Train accuracy:\", train_scores[1])\n",
        "print(\"Test loss:\", test_scores[0])\n",
        "print(\"Test accuracy:\", test_scores[1])"
      ]
    },
    {
      "cell_type": "markdown",
      "metadata": {
        "id": "6WdAPnZO9wyW"
      },
      "source": [
        "## trying with hypertuning and not building oo top model"
      ]
    },
    {
      "cell_type": "code",
      "execution_count": null,
      "metadata": {
        "id": "dp0cXHPk14eN"
      },
      "outputs": [],
      "source": [
        "model = ResNet50V2(weights='imagenet', include_top=False)\n",
        "model.output"
      ]
    },
    {
      "cell_type": "code",
      "execution_count": null,
      "metadata": {
        "id": "2PEMDkxH14b2"
      },
      "outputs": [],
      "source": [
        "\n",
        "x = model.output\n",
        "x = GlobalAveragePooling2D()(x)\n",
        "x = Dense(1024, activation='relu')(x)\n",
        "x = Dropout(0.25)(x)\n",
        "predictions = Dense(2, activation='softmax')(x)\n",
        "\n",
        "fullmodel = Model(inputs=model.input, outputs=predictions)\n",
        "# freeze layers \n",
        "for layer in model.layers:\n",
        "    layer.trainable = False\n",
        "\n",
        "fullmodel.compile(loss='categorical_crossentropy', optimizer='adam', metrics=['accuracy'])\n"
      ]
    },
    {
      "cell_type": "markdown",
      "metadata": {
        "id": "LzFLodgrDjBO"
      },
      "source": [
        "## Original size input\n",
        "## crahed so many times - fix it later"
      ]
    },
    {
      "cell_type": "code",
      "execution_count": null,
      "metadata": {
        "id": "aZILGRNb14ZM"
      },
      "outputs": [],
      "source": [
        "X_train, X_test, y_train, y_test = train_test_split(X, y_cat, test_size=0.25)"
      ]
    },
    {
      "cell_type": "code",
      "execution_count": null,
      "metadata": {
        "id": "cz6j4lKg14Wt"
      },
      "outputs": [],
      "source": [
        "batch_size = 30\n",
        "epochs     = 5\n",
        "\n",
        "hist = fullmodel.fit(X_train, y_train,\n",
        "          batch_size=batch_size,\n",
        "          epochs=epochs,\n",
        "          validation_data=(X_test, y_test),\n",
        "          verbose=2)\n",
        "# results\n",
        "train_scores = fullmodel.evaluate(X_train, y_train, verbose=0)\n",
        "test_scores = fullmodel.evaluate(X_test, y_test, verbose=0)\n",
        "\n",
        "print(\"Train loss:\", train_scores[0])\n",
        "print(\"Train accuracy:\", train_scores[1])\n",
        "print(\"Test loss:\", test_scores[0])\n",
        "print(\"Test accuracy:\", test_scores[1])"
      ]
    },
    {
      "cell_type": "markdown",
      "metadata": {
        "id": "LCKETYmTKi6E"
      },
      "source": [
        "# "
      ]
    },
    {
      "cell_type": "markdown",
      "metadata": {
        "id": "kPSpJGN2Ki22"
      },
      "source": []
    }
  ],
  "metadata": {
    "accelerator": "GPU",
    "colab": {
      "machine_shape": "hm",
      "provenance": []
    },
    "gpuClass": "standard",
    "kernelspec": {
      "display_name": "Python 3",
      "name": "python3"
    }
  },
  "nbformat": 4,
  "nbformat_minor": 0
}